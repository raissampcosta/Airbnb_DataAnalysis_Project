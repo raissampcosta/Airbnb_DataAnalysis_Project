{
 "cells": [
  {
   "cell_type": "markdown",
   "id": "c32072b6-6c03-4dfa-98d0-832b84565aed",
   "metadata": {},
   "source": [
    "# Airbnb Data Analysis: Analyzing Seattle and Boston"
   ]
  },
  {
   "cell_type": "markdown",
   "id": "aaf58222-80ff-482c-8004-282a9ef9ee7a",
   "metadata": {
    "jp-MarkdownHeadingCollapsed": true
   },
   "source": [
    "## Introduction\n",
    "\n",
    "This project analyzes Airbnb listings from Seattle and Boston. The goal is to identify patterns in pricing, availability, and reviews, and compare key metrics between the two cities.\n",
    "\n",
    "## Business Questions\n",
    "\n",
    "- What factors most influence the price of Airbnb accommodations?\n",
    "- What are the most valued amenity combinations, considering average price and high demand?\n",
    "- How do guest preferences for amenities differ between properties with high ratings and low ratings in Seattle and Boston?\n",
    "\n",
    "## Data Understanding\n",
    "\n",
    "**1. What factors most influence the price of Airbnb accommodations?**\n",
    "\n",
    "   To answer this question, we need to access the listings datasets (Seattle and Boston) and identify the variables that significantly influence the price of Airbnb accommodations through correlation analysis and regression modeling.\n",
    "    \n",
    "**2. What are the most valued amenity combinations, considering average price and high demand?**\n",
    "\n",
    "   Here, I exploded the amenities and combined then into groups to identify which combinations of amenities add the most value to accommodations in terms of price and demand.\n",
    "\n",
    "**3. How do guest preferences for amenities differ between properties with high ratings and low ratings in Seattle and Boston?**\n",
    "\n",
    "   Compared the frequency of amenities between high-rated and low-rated properties in Seattle and Boston to uncover differences in guest preferences."
   ]
  },
  {
   "cell_type": "markdown",
   "id": "62e0707c-7f70-456e-83b7-794d909b70f8",
   "metadata": {},
   "source": [
    "## Data Import and Initial Exploration\n",
    "\n",
    "This section imports the necessary libraries and loads the Seattle and Boston datasets, which include information about listings, reservation calendars, and reviews. It also provides an initial exploration of the data by checking the dimensions and previewing the structure of the datasets."
   ]
  },
  {
   "cell_type": "code",
   "execution_count": 4,
   "id": "eb18407b-bb56-4cd3-afbb-0a1a18f672f4",
   "metadata": {},
   "outputs": [],
   "source": [
    "import numpy as np\n",
    "import pandas as pd\n",
    "import seaborn as sns\n",
    "import matplotlib.pyplot as plt\n",
    "from sklearn.linear_model import LinearRegression\n",
    "from sklearn.model_selection import train_test_split\n",
    "from sklearn.metrics import r2_score, mean_squared_error\n",
    "from sklearn.preprocessing import StandardScaler\n",
    "from itertools import combinations\n",
    "from scipy.stats import chi2_contingency"
   ]
  },
  {
   "cell_type": "code",
   "execution_count": 5,
   "id": "03785905-8740-4edc-8741-0cfd57ee7cfa",
   "metadata": {},
   "outputs": [],
   "source": [
    "# Load Seattle and Boston datasets\n",
    "# These datasets include information about listings, reservation calendars, and reviews\n",
    "\n",
    "# Seattle Dataset\n",
    "seattle_listings = pd.read_csv('./datasets/seattle/listings.csv')\n",
    "seattle_calendar = pd.read_csv('./datasets/seattle/calendar.csv')\n",
    "seattle_reviews = pd.read_csv('./datasets/seattle/reviews.csv')\n",
    "\n",
    "# Boston Dataset\n",
    "boston_listings = pd.read_csv('./datasets/boston/listings.csv')\n",
    "boston_calendar = pd.read_csv('./datasets/boston/calendar.csv')\n",
    "boston_reviews = pd.read_csv('./datasets/boston/reviews.csv')"
   ]
  },
  {
   "cell_type": "code",
   "execution_count": 6,
   "id": "0aca6505-632c-4166-8150-4a10def4a0b0",
   "metadata": {},
   "outputs": [
    {
     "name": "stdout",
     "output_type": "stream",
     "text": [
      "(3818, 92)\n",
      "(1393570, 4)\n",
      "(84849, 6)\n",
      "(3585, 95)\n",
      "(1308890, 4)\n",
      "(68275, 6)\n"
     ]
    }
   ],
   "source": [
    "# Check the number of rows and columns in the Seattle and Boston datasets\n",
    "# This helps to understand the initial structure of the data\n",
    "\n",
    "# Seattle Datasets Shape\n",
    "print(seattle_listings.shape)\n",
    "print(seattle_calendar.shape)\n",
    "print(seattle_reviews.shape)\n",
    "\n",
    "# Boston Datasets Shape\n",
    "print(boston_listings.shape)\n",
    "print(boston_calendar.shape)\n",
    "print(boston_reviews.shape)"
   ]
  },
  {
   "cell_type": "code",
   "execution_count": 7,
   "id": "40997d55-56d0-4486-a142-04d139618410",
   "metadata": {},
   "outputs": [
    {
     "data": {
      "text/html": [
       "<div>\n",
       "<style scoped>\n",
       "    .dataframe tbody tr th:only-of-type {\n",
       "        vertical-align: middle;\n",
       "    }\n",
       "\n",
       "    .dataframe tbody tr th {\n",
       "        vertical-align: top;\n",
       "    }\n",
       "\n",
       "    .dataframe thead th {\n",
       "        text-align: right;\n",
       "    }\n",
       "</style>\n",
       "<table border=\"1\" class=\"dataframe\">\n",
       "  <thead>\n",
       "    <tr style=\"text-align: right;\">\n",
       "      <th></th>\n",
       "      <th>id</th>\n",
       "      <th>listing_url</th>\n",
       "      <th>scrape_id</th>\n",
       "      <th>last_scraped</th>\n",
       "      <th>name</th>\n",
       "      <th>summary</th>\n",
       "      <th>space</th>\n",
       "      <th>description</th>\n",
       "      <th>experiences_offered</th>\n",
       "      <th>neighborhood_overview</th>\n",
       "      <th>...</th>\n",
       "      <th>review_scores_value</th>\n",
       "      <th>requires_license</th>\n",
       "      <th>license</th>\n",
       "      <th>jurisdiction_names</th>\n",
       "      <th>instant_bookable</th>\n",
       "      <th>cancellation_policy</th>\n",
       "      <th>require_guest_profile_picture</th>\n",
       "      <th>require_guest_phone_verification</th>\n",
       "      <th>calculated_host_listings_count</th>\n",
       "      <th>reviews_per_month</th>\n",
       "    </tr>\n",
       "  </thead>\n",
       "  <tbody>\n",
       "    <tr>\n",
       "      <th>0</th>\n",
       "      <td>241032</td>\n",
       "      <td>https://www.airbnb.com/rooms/241032</td>\n",
       "      <td>20160104002432</td>\n",
       "      <td>2016-01-04</td>\n",
       "      <td>Stylish Queen Anne Apartment</td>\n",
       "      <td>NaN</td>\n",
       "      <td>Make your self at home in this charming one-be...</td>\n",
       "      <td>Make your self at home in this charming one-be...</td>\n",
       "      <td>none</td>\n",
       "      <td>NaN</td>\n",
       "      <td>...</td>\n",
       "      <td>10.0</td>\n",
       "      <td>f</td>\n",
       "      <td>NaN</td>\n",
       "      <td>WASHINGTON</td>\n",
       "      <td>f</td>\n",
       "      <td>moderate</td>\n",
       "      <td>f</td>\n",
       "      <td>f</td>\n",
       "      <td>2</td>\n",
       "      <td>4.07</td>\n",
       "    </tr>\n",
       "    <tr>\n",
       "      <th>1</th>\n",
       "      <td>953595</td>\n",
       "      <td>https://www.airbnb.com/rooms/953595</td>\n",
       "      <td>20160104002432</td>\n",
       "      <td>2016-01-04</td>\n",
       "      <td>Bright &amp; Airy Queen Anne Apartment</td>\n",
       "      <td>Chemically sensitive? We've removed the irrita...</td>\n",
       "      <td>Beautiful, hypoallergenic apartment in an extr...</td>\n",
       "      <td>Chemically sensitive? We've removed the irrita...</td>\n",
       "      <td>none</td>\n",
       "      <td>Queen Anne is a wonderful, truly functional vi...</td>\n",
       "      <td>...</td>\n",
       "      <td>10.0</td>\n",
       "      <td>f</td>\n",
       "      <td>NaN</td>\n",
       "      <td>WASHINGTON</td>\n",
       "      <td>f</td>\n",
       "      <td>strict</td>\n",
       "      <td>t</td>\n",
       "      <td>t</td>\n",
       "      <td>6</td>\n",
       "      <td>1.48</td>\n",
       "    </tr>\n",
       "  </tbody>\n",
       "</table>\n",
       "<p>2 rows × 92 columns</p>\n",
       "</div>"
      ],
      "text/plain": [
       "       id                          listing_url       scrape_id last_scraped  \\\n",
       "0  241032  https://www.airbnb.com/rooms/241032  20160104002432   2016-01-04   \n",
       "1  953595  https://www.airbnb.com/rooms/953595  20160104002432   2016-01-04   \n",
       "\n",
       "                                 name  \\\n",
       "0        Stylish Queen Anne Apartment   \n",
       "1  Bright & Airy Queen Anne Apartment   \n",
       "\n",
       "                                             summary  \\\n",
       "0                                                NaN   \n",
       "1  Chemically sensitive? We've removed the irrita...   \n",
       "\n",
       "                                               space  \\\n",
       "0  Make your self at home in this charming one-be...   \n",
       "1  Beautiful, hypoallergenic apartment in an extr...   \n",
       "\n",
       "                                         description experiences_offered  \\\n",
       "0  Make your self at home in this charming one-be...                none   \n",
       "1  Chemically sensitive? We've removed the irrita...                none   \n",
       "\n",
       "                               neighborhood_overview  ... review_scores_value  \\\n",
       "0                                                NaN  ...                10.0   \n",
       "1  Queen Anne is a wonderful, truly functional vi...  ...                10.0   \n",
       "\n",
       "  requires_license license jurisdiction_names instant_bookable  \\\n",
       "0                f     NaN         WASHINGTON                f   \n",
       "1                f     NaN         WASHINGTON                f   \n",
       "\n",
       "  cancellation_policy  require_guest_profile_picture  \\\n",
       "0            moderate                              f   \n",
       "1              strict                              t   \n",
       "\n",
       "  require_guest_phone_verification calculated_host_listings_count  \\\n",
       "0                                f                              2   \n",
       "1                                t                              6   \n",
       "\n",
       "  reviews_per_month  \n",
       "0              4.07  \n",
       "1              1.48  \n",
       "\n",
       "[2 rows x 92 columns]"
      ]
     },
     "execution_count": 7,
     "metadata": {},
     "output_type": "execute_result"
    }
   ],
   "source": [
    "seattle_listings.head(2)"
   ]
  },
  {
   "cell_type": "code",
   "execution_count": 8,
   "id": "ee4286ad-476e-485d-b7ed-8482d4f8f644",
   "metadata": {},
   "outputs": [
    {
     "data": {
      "text/plain": [
       "Index(['id', 'listing_url', 'scrape_id', 'last_scraped', 'name', 'summary',\n",
       "       'space', 'description', 'experiences_offered', 'neighborhood_overview',\n",
       "       'notes', 'transit', 'thumbnail_url', 'medium_url', 'picture_url',\n",
       "       'xl_picture_url', 'host_id', 'host_url', 'host_name', 'host_since',\n",
       "       'host_location', 'host_about', 'host_response_time',\n",
       "       'host_response_rate', 'host_acceptance_rate', 'host_is_superhost',\n",
       "       'host_thumbnail_url', 'host_picture_url', 'host_neighbourhood',\n",
       "       'host_listings_count', 'host_total_listings_count',\n",
       "       'host_verifications', 'host_has_profile_pic', 'host_identity_verified',\n",
       "       'street', 'neighbourhood', 'neighbourhood_cleansed',\n",
       "       'neighbourhood_group_cleansed', 'city', 'state', 'zipcode', 'market',\n",
       "       'smart_location', 'country_code', 'country', 'latitude', 'longitude',\n",
       "       'is_location_exact', 'property_type', 'room_type', 'accommodates',\n",
       "       'bathrooms', 'bedrooms', 'beds', 'bed_type', 'amenities', 'square_feet',\n",
       "       'price', 'weekly_price', 'monthly_price', 'security_deposit',\n",
       "       'cleaning_fee', 'guests_included', 'extra_people', 'minimum_nights',\n",
       "       'maximum_nights', 'calendar_updated', 'has_availability',\n",
       "       'availability_30', 'availability_60', 'availability_90',\n",
       "       'availability_365', 'calendar_last_scraped', 'number_of_reviews',\n",
       "       'first_review', 'last_review', 'review_scores_rating',\n",
       "       'review_scores_accuracy', 'review_scores_cleanliness',\n",
       "       'review_scores_checkin', 'review_scores_communication',\n",
       "       'review_scores_location', 'review_scores_value', 'requires_license',\n",
       "       'license', 'jurisdiction_names', 'instant_bookable',\n",
       "       'cancellation_policy', 'require_guest_profile_picture',\n",
       "       'require_guest_phone_verification', 'calculated_host_listings_count',\n",
       "       'reviews_per_month'],\n",
       "      dtype='object')"
      ]
     },
     "execution_count": 8,
     "metadata": {},
     "output_type": "execute_result"
    }
   ],
   "source": [
    "seattle_listings.columns"
   ]
  },
  {
   "cell_type": "markdown",
   "id": "9d7a3b86-d8c3-4a55-8b89-6577e21081b4",
   "metadata": {},
   "source": [
    "## Data Cleaning and Preprocessing\n",
    "\n",
    "This section focuses on cleaning and preprocessing the Seattle and Boston datasets to ensure consistency and usability for further analysis. Key steps include:"
   ]
  },
  {
   "cell_type": "markdown",
   "id": "01fe969e-f9e2-45e0-b67e-1e8e39c36739",
   "metadata": {},
   "source": [
    "### 1. **Data Cleaning**\n",
    "- **Remove Columns with Null or Constant Values**\n",
    "- **Ensure Consistency Between Datasets**\n",
    "- **Remove Columns with Excessive Missing Data**\n",
    "\n",
    "\n",
    "This process ensures the dataset is cleaned, consistent, and ready for exploratory analysis or modeling."
   ]
  },
  {
   "cell_type": "markdown",
   "id": "8242f4b9-f86c-43c9-b853-4e1ac8313277",
   "metadata": {},
   "source": [
    "### 1.1 **Identify and Remove Null Columns**:\n",
    "   - Columns with all null values are identified and removed as they do not contribute any information."
   ]
  },
  {
   "cell_type": "code",
   "execution_count": 12,
   "id": "094ceedb-901c-495c-9fc0-46bf22d9bd0d",
   "metadata": {},
   "outputs": [
    {
     "name": "stdout",
     "output_type": "stream",
     "text": [
      "Index(['license'], dtype='object')\n",
      "Index(['neighbourhood_group_cleansed', 'has_availability', 'license',\n",
      "       'jurisdiction_names'],\n",
      "      dtype='object')\n"
     ]
    }
   ],
   "source": [
    "# Identify columns with only null values in the Seattle and Boston datasets\n",
    "# This helps to decide which columns can be discarded\n",
    "\n",
    "seattle_null_columns = seattle_listings.columns[seattle_listings.isnull().all()]\n",
    "boston_null_columns = boston_listings.columns[boston_listings.isnull().all()]\n",
    "\n",
    "print(seattle_null_columns)\n",
    "print(boston_null_columns)"
   ]
  },
  {
   "cell_type": "code",
   "execution_count": 13,
   "id": "826cd567-244e-49c0-8ac0-2a1c5b60812f",
   "metadata": {},
   "outputs": [],
   "source": [
    "seattle_listings.drop(columns = seattle_null_columns, inplace = True)\n",
    "boston_listings.drop(columns = boston_null_columns, inplace = True)"
   ]
  },
  {
   "cell_type": "markdown",
   "id": "11d12034-67d8-409a-9b84-31584e0dd9dc",
   "metadata": {},
   "source": [
    "### 1.2 **Ensure Consistency Between Datasets**:\n",
    "   - Columns not common to both datasets are removed to maintain a consistent structure for analysis."
   ]
  },
  {
   "cell_type": "code",
   "execution_count": 15,
   "id": "a043269c-55e3-4239-a76c-e9fd1780980a",
   "metadata": {},
   "outputs": [
    {
     "name": "stdout",
     "output_type": "stream",
     "text": [
      "['neighbourhood_group_cleansed', 'has_availability', 'jurisdiction_names']\n",
      "['access', 'house_rules', 'interaction']\n"
     ]
    }
   ],
   "source": [
    "# Remove columns that are not common to both datasets (Seattle and Boston)\n",
    "# This ensures that the datasets have a consistent structure for further analysis and modeling\n",
    "\n",
    "seattle_columns_removed = list(set(seattle_listings.columns) - set(boston_listings.columns))\n",
    "boston_columns_removed = list(set(boston_listings.columns) - set(seattle_listings.columns))\n",
    "\n",
    "print(seattle_columns_removed)\n",
    "print(boston_columns_removed)"
   ]
  },
  {
   "cell_type": "code",
   "execution_count": 16,
   "id": "6d312a37-d2dc-491a-9fb1-46ab89023b4f",
   "metadata": {},
   "outputs": [],
   "source": [
    "seattle_listings.drop(columns = seattle_columns_removed, inplace = True)\n",
    "boston_listings.drop(columns = boston_columns_removed, inplace = True)"
   ]
  },
  {
   "cell_type": "code",
   "execution_count": 17,
   "id": "2a5e95c7-af22-4f9b-9bf4-e5dbd4c63905",
   "metadata": {},
   "outputs": [
    {
     "data": {
      "text/plain": [
       "True"
      ]
     },
     "execution_count": 17,
     "metadata": {},
     "output_type": "execute_result"
    }
   ],
   "source": [
    "set(seattle_listings.columns) == set(boston_listings.columns)"
   ]
  },
  {
   "cell_type": "markdown",
   "id": "293dd3af-865b-4f25-8dd9-33a1ac2a714d",
   "metadata": {},
   "source": [
    "### 1.3 **Remove Constant Value Columns**:\n",
    "   - Columns with constant values across all rows are removed as they provide no variability or insights."
   ]
  },
  {
   "cell_type": "code",
   "execution_count": 19,
   "id": "0b3c855e-9849-40f4-bc60-85c16164f15f",
   "metadata": {},
   "outputs": [
    {
     "name": "stdout",
     "output_type": "stream",
     "text": [
      "['scrape_id', 'last_scraped', 'experiences_offered', 'market', 'country_code', 'country', 'calendar_last_scraped', 'requires_license']\n",
      "['scrape_id', 'last_scraped', 'experiences_offered', 'state', 'country_code', 'country', 'calendar_last_scraped', 'requires_license']\n"
     ]
    }
   ],
   "source": [
    "# Remove columns that have constant values across all rows\n",
    "# These columns do not provide any useful information for modeling or analysis\n",
    "\n",
    "seattle_constant_columns = [col for col in seattle_listings.columns if seattle_listings[col].nunique() == 1]\n",
    "boston_constant_columns = [col for col in boston_listings.columns if boston_listings[col].nunique() == 1]\n",
    "\n",
    "print(seattle_constant_columns)\n",
    "print(boston_constant_columns)"
   ]
  },
  {
   "cell_type": "code",
   "execution_count": 20,
   "id": "b19561ec-aed1-4e10-9a73-94ba6b53224b",
   "metadata": {},
   "outputs": [],
   "source": [
    "seattle_listings.drop(columns = seattle_constant_columns, inplace = True)\n",
    "boston_listings.drop(columns = boston_constant_columns, inplace = True)"
   ]
  },
  {
   "cell_type": "code",
   "execution_count": 21,
   "id": "848836f2-02d4-404d-90e2-d5f15906eee1",
   "metadata": {},
   "outputs": [
    {
     "name": "stdout",
     "output_type": "stream",
     "text": [
      "state\n",
      "WA    3817\n",
      "wa       1\n",
      "Name: count, dtype: int64\n",
      "\n",
      "\n",
      "market\n",
      "Boston                   3568\n",
      "San Francisco               1\n",
      "Other (Domestic)            1\n",
      "Other (International)       1\n",
      "Name: count, dtype: int64\n"
     ]
    }
   ],
   "source": [
    "print(seattle_listings.state.value_counts())\n",
    "print('\\n')\n",
    "print(boston_listings.market.value_counts())"
   ]
  },
  {
   "cell_type": "code",
   "execution_count": 22,
   "id": "2ba7f03c-dc8f-46cc-976a-d51c9c9b1695",
   "metadata": {},
   "outputs": [],
   "source": [
    "seattle_listings.drop(columns = 'state', inplace = True)\n",
    "boston_listings.drop(columns = 'market', inplace = True)"
   ]
  },
  {
   "cell_type": "code",
   "execution_count": 23,
   "id": "ced8b52b-d01c-4f60-88bb-ee6ab2656635",
   "metadata": {},
   "outputs": [
    {
     "data": {
      "text/plain": [
       "True"
      ]
     },
     "execution_count": 23,
     "metadata": {},
     "output_type": "execute_result"
    }
   ],
   "source": [
    "set(seattle_listings.columns) == set(boston_listings.columns)"
   ]
  },
  {
   "cell_type": "markdown",
   "id": "890e88e4-55b4-4425-b57a-b071b3caf018",
   "metadata": {},
   "source": [
    "### 1.4 **Handle Columns with Excessive Missing Data**:\n",
    "   - Columns with more than 50% missing values are removed, as they likely lack sufficient data for meaningful analysis."
   ]
  },
  {
   "cell_type": "code",
   "execution_count": 25,
   "id": "9ac475e0-abcc-475d-894a-5f96f04c6daa",
   "metadata": {},
   "outputs": [
    {
     "name": "stdout",
     "output_type": "stream",
     "text": [
      "['square_feet', 'monthly_price', 'security_deposit']\n",
      "['square_feet', 'monthly_price', 'security_deposit']\n"
     ]
    }
   ],
   "source": [
    "# Remove columns with more than 50% of their values missing\n",
    "# These columns are likely to lack sufficient data to provide meaningful insights or contributions to the model\n",
    "\n",
    "seattle_most_null_values = list(seattle_listings.columns[seattle_listings.isnull().mean() > 0.5])\n",
    "boston_most_null_values = list(boston_listings.columns[seattle_listings.isnull().mean() > 0.5])\n",
    "\n",
    "print(seattle_most_null_values)\n",
    "print(boston_most_null_values)"
   ]
  },
  {
   "cell_type": "code",
   "execution_count": 26,
   "id": "5bc81b8b-1ee6-421d-92c3-8709b967510b",
   "metadata": {},
   "outputs": [],
   "source": [
    "seattle_listings.drop(columns = seattle_most_null_values, inplace = True)\n",
    "boston_listings.drop(columns = boston_most_null_values, inplace = True)"
   ]
  },
  {
   "cell_type": "markdown",
   "id": "7d25c2bb-24fb-4fa5-8d50-ce0d19458d82",
   "metadata": {},
   "source": [
    "### 1.5 **Convert String-Formatted Numerical Columns**:\n",
    "   - Columns containing numerical data as strings (e.g., prices) are converted to numeric types for accurate computation and modeling."
   ]
  },
  {
   "cell_type": "code",
   "execution_count": 28,
   "id": "306f17ba-330f-4ae6-8ea0-e9871af31c52",
   "metadata": {},
   "outputs": [],
   "source": [
    "# Convert string-formatted numerical columns (e.g., prices) to numeric types\n",
    "# This involves removing special characters like '$' and ',' and converting the values to floats\n",
    "\n",
    "for i in ['price', 'weekly_price', 'cleaning_fee','extra_people']:\n",
    "    seattle_listings[i] = seattle_listings[i].str.replace('[$,]', '', regex=True).astype(float)\n",
    "    boston_listings[i] = boston_listings[i].str.replace('[$,]', '', regex=True).astype(float)"
   ]
  },
  {
   "cell_type": "markdown",
   "id": "8110daaa-c8e3-42d8-8781-bbd54f922e67",
   "metadata": {},
   "source": [
    "### 2. **City Standardization**\n",
    "- Standardized the `city` column:\n",
    "  - Assigned consistent labels (`'Seattle'` and `'Boston'`) for easier grouping and analysis."
   ]
  },
  {
   "cell_type": "code",
   "execution_count": 30,
   "id": "fae6e066-8f38-426a-8e2c-e750984c327b",
   "metadata": {},
   "outputs": [
    {
     "data": {
      "text/plain": [
       "city\n",
       "Seattle                  3810\n",
       "West Seattle                2\n",
       "Seattle                     2\n",
       "Ballard, Seattle            1\n",
       "西雅图                         1\n",
       "Phinney Ridge Seattle       1\n",
       "seattle                     1\n",
       "Name: count, dtype: int64"
      ]
     },
     "execution_count": 30,
     "metadata": {},
     "output_type": "execute_result"
    }
   ],
   "source": [
    "seattle_listings.city.value_counts()"
   ]
  },
  {
   "cell_type": "code",
   "execution_count": 31,
   "id": "be3bdded-7776-43df-99bc-cca28445d1cc",
   "metadata": {},
   "outputs": [
    {
     "data": {
      "text/plain": [
       "0       Seattle\n",
       "1       Seattle\n",
       "2       Seattle\n",
       "3       Seattle\n",
       "4       Seattle\n",
       "         ...   \n",
       "3813    Seattle\n",
       "3814    Seattle\n",
       "3815    Seattle\n",
       "3816    Seattle\n",
       "3817    Seattle\n",
       "Name: city, Length: 3818, dtype: object"
      ]
     },
     "execution_count": 31,
     "metadata": {},
     "output_type": "execute_result"
    }
   ],
   "source": [
    "seattle_listings['city'] = 'Seattle'\n",
    "seattle_listings['city']"
   ]
  },
  {
   "cell_type": "code",
   "execution_count": 32,
   "id": "3c294c43-3ac1-4a1a-9cd5-5212a600b503",
   "metadata": {},
   "outputs": [
    {
     "data": {
      "text/plain": [
       "city\n",
       "Boston                       3381\n",
       "Roxbury Crossing               24\n",
       "Somerville                     19\n",
       "Jamaica Plain                  18\n",
       "Brookline                      18\n",
       "Cambridge                      16\n",
       "Dorchester                     15\n",
       "Brighton                       15\n",
       "Charlestown                    15\n",
       "Allston                        12\n",
       "Roslindale                      6\n",
       "West Roxbury                    5\n",
       "ROXBURY CROSSING                4\n",
       "Mattapan                        3\n",
       "East Boston                     3\n",
       "ALLSTON                         2\n",
       "South Boston                    2\n",
       "Jamaica Plain, Boston           2\n",
       "Hyde Park                       2\n",
       "Jamaica Plain                   2\n",
       "Boston, Massachusetts, US       2\n",
       "Boston                          1\n",
       "Roslindale, Boston              1\n",
       "dorchester, boston              1\n",
       "Milton                          1\n",
       "Jamaica Plain (Boston)          1\n",
       "Newton                          1\n",
       "波士顿                             1\n",
       "Jamaica Plain, MA               1\n",
       "Watertown                       1\n",
       "Boston (Jamaica Plain)          1\n",
       "Boston (Charlestown)            1\n",
       "Jamaica plain                   1\n",
       "east Boston                     1\n",
       "Mission Hill, Boston            1\n",
       "boston                          1\n",
       "South End, Boston               1\n",
       "Brighton                        1\n",
       "Name: count, dtype: int64"
      ]
     },
     "execution_count": 32,
     "metadata": {},
     "output_type": "execute_result"
    }
   ],
   "source": [
    "boston_listings.city.value_counts()"
   ]
  },
  {
   "cell_type": "code",
   "execution_count": 33,
   "id": "1527a116-e4d0-48bd-9894-c466325b36f4",
   "metadata": {},
   "outputs": [
    {
     "data": {
      "text/plain": [
       "0       Boston\n",
       "1       Boston\n",
       "2       Boston\n",
       "3       Boston\n",
       "4       Boston\n",
       "         ...  \n",
       "3580    Boston\n",
       "3581    Boston\n",
       "3582    Boston\n",
       "3583    Boston\n",
       "3584    Boston\n",
       "Name: city, Length: 3585, dtype: object"
      ]
     },
     "execution_count": 33,
     "metadata": {},
     "output_type": "execute_result"
    }
   ],
   "source": [
    "boston_listings['city'] = 'Boston'\n",
    "boston_listings['city']"
   ]
  },
  {
   "cell_type": "markdown",
   "id": "6c47af21-3c72-44cd-a612-c1ba81c56db3",
   "metadata": {},
   "source": [
    "### 3. **Column Selection**\n",
    "- Retained only the most relevant columns (e.g., property details, pricing, amenities, reviews) to focus on meaningful data."
   ]
  },
  {
   "cell_type": "code",
   "execution_count": 35,
   "id": "c448998d-f0b3-490e-9ead-51e585ce520e",
   "metadata": {},
   "outputs": [],
   "source": [
    "columns_to_keep = ['id','review_scores_value','host_is_superhost','neighbourhood_cleansed','city','property_type','room_type','accommodates','bathrooms','bedrooms','beds','bed_type','amenities','price',\n",
    "                   'cleaning_fee','guests_included','extra_people','minimum_nights','maximum_nights','number_of_reviews','review_scores_rating','review_scores_accuracy','review_scores_cleanliness',\n",
    "                   'review_scores_checkin', 'review_scores_communication','review_scores_location','cancellation_policy','instant_bookable','reviews_per_month', 'availability_365']\n",
    "\n",
    "seattle_listings = seattle_listings[columns_to_keep]\n",
    "boston_listings = boston_listings[columns_to_keep]"
   ]
  },
  {
   "cell_type": "code",
   "execution_count": 36,
   "id": "f0b74e7c-9853-48af-8cea-aa19559d3de7",
   "metadata": {},
   "outputs": [
    {
     "data": {
      "text/html": [
       "<div>\n",
       "<style scoped>\n",
       "    .dataframe tbody tr th:only-of-type {\n",
       "        vertical-align: middle;\n",
       "    }\n",
       "\n",
       "    .dataframe tbody tr th {\n",
       "        vertical-align: top;\n",
       "    }\n",
       "\n",
       "    .dataframe thead th {\n",
       "        text-align: right;\n",
       "    }\n",
       "</style>\n",
       "<table border=\"1\" class=\"dataframe\">\n",
       "  <thead>\n",
       "    <tr style=\"text-align: right;\">\n",
       "      <th></th>\n",
       "      <th>id</th>\n",
       "      <th>review_scores_value</th>\n",
       "      <th>host_is_superhost</th>\n",
       "      <th>neighbourhood_cleansed</th>\n",
       "      <th>city</th>\n",
       "      <th>property_type</th>\n",
       "      <th>room_type</th>\n",
       "      <th>accommodates</th>\n",
       "      <th>bathrooms</th>\n",
       "      <th>bedrooms</th>\n",
       "      <th>...</th>\n",
       "      <th>review_scores_rating</th>\n",
       "      <th>review_scores_accuracy</th>\n",
       "      <th>review_scores_cleanliness</th>\n",
       "      <th>review_scores_checkin</th>\n",
       "      <th>review_scores_communication</th>\n",
       "      <th>review_scores_location</th>\n",
       "      <th>cancellation_policy</th>\n",
       "      <th>instant_bookable</th>\n",
       "      <th>reviews_per_month</th>\n",
       "      <th>availability_365</th>\n",
       "    </tr>\n",
       "  </thead>\n",
       "  <tbody>\n",
       "    <tr>\n",
       "      <th>0</th>\n",
       "      <td>241032</td>\n",
       "      <td>10.0</td>\n",
       "      <td>f</td>\n",
       "      <td>West Queen Anne</td>\n",
       "      <td>Seattle</td>\n",
       "      <td>Apartment</td>\n",
       "      <td>Entire home/apt</td>\n",
       "      <td>4</td>\n",
       "      <td>1.0</td>\n",
       "      <td>1.0</td>\n",
       "      <td>...</td>\n",
       "      <td>95.0</td>\n",
       "      <td>10.0</td>\n",
       "      <td>10.0</td>\n",
       "      <td>10.0</td>\n",
       "      <td>10.0</td>\n",
       "      <td>9.0</td>\n",
       "      <td>moderate</td>\n",
       "      <td>f</td>\n",
       "      <td>4.07</td>\n",
       "      <td>346</td>\n",
       "    </tr>\n",
       "    <tr>\n",
       "      <th>1</th>\n",
       "      <td>953595</td>\n",
       "      <td>10.0</td>\n",
       "      <td>t</td>\n",
       "      <td>West Queen Anne</td>\n",
       "      <td>Seattle</td>\n",
       "      <td>Apartment</td>\n",
       "      <td>Entire home/apt</td>\n",
       "      <td>4</td>\n",
       "      <td>1.0</td>\n",
       "      <td>1.0</td>\n",
       "      <td>...</td>\n",
       "      <td>96.0</td>\n",
       "      <td>10.0</td>\n",
       "      <td>10.0</td>\n",
       "      <td>10.0</td>\n",
       "      <td>10.0</td>\n",
       "      <td>10.0</td>\n",
       "      <td>strict</td>\n",
       "      <td>f</td>\n",
       "      <td>1.48</td>\n",
       "      <td>291</td>\n",
       "    </tr>\n",
       "    <tr>\n",
       "      <th>2</th>\n",
       "      <td>3308979</td>\n",
       "      <td>10.0</td>\n",
       "      <td>f</td>\n",
       "      <td>West Queen Anne</td>\n",
       "      <td>Seattle</td>\n",
       "      <td>House</td>\n",
       "      <td>Entire home/apt</td>\n",
       "      <td>11</td>\n",
       "      <td>4.5</td>\n",
       "      <td>5.0</td>\n",
       "      <td>...</td>\n",
       "      <td>97.0</td>\n",
       "      <td>10.0</td>\n",
       "      <td>10.0</td>\n",
       "      <td>10.0</td>\n",
       "      <td>10.0</td>\n",
       "      <td>10.0</td>\n",
       "      <td>strict</td>\n",
       "      <td>f</td>\n",
       "      <td>1.15</td>\n",
       "      <td>220</td>\n",
       "    </tr>\n",
       "    <tr>\n",
       "      <th>3</th>\n",
       "      <td>7421966</td>\n",
       "      <td>NaN</td>\n",
       "      <td>f</td>\n",
       "      <td>West Queen Anne</td>\n",
       "      <td>Seattle</td>\n",
       "      <td>Apartment</td>\n",
       "      <td>Entire home/apt</td>\n",
       "      <td>3</td>\n",
       "      <td>1.0</td>\n",
       "      <td>0.0</td>\n",
       "      <td>...</td>\n",
       "      <td>NaN</td>\n",
       "      <td>NaN</td>\n",
       "      <td>NaN</td>\n",
       "      <td>NaN</td>\n",
       "      <td>NaN</td>\n",
       "      <td>NaN</td>\n",
       "      <td>flexible</td>\n",
       "      <td>f</td>\n",
       "      <td>NaN</td>\n",
       "      <td>143</td>\n",
       "    </tr>\n",
       "    <tr>\n",
       "      <th>4</th>\n",
       "      <td>278830</td>\n",
       "      <td>9.0</td>\n",
       "      <td>f</td>\n",
       "      <td>West Queen Anne</td>\n",
       "      <td>Seattle</td>\n",
       "      <td>House</td>\n",
       "      <td>Entire home/apt</td>\n",
       "      <td>6</td>\n",
       "      <td>2.0</td>\n",
       "      <td>3.0</td>\n",
       "      <td>...</td>\n",
       "      <td>92.0</td>\n",
       "      <td>9.0</td>\n",
       "      <td>9.0</td>\n",
       "      <td>10.0</td>\n",
       "      <td>10.0</td>\n",
       "      <td>9.0</td>\n",
       "      <td>strict</td>\n",
       "      <td>f</td>\n",
       "      <td>0.89</td>\n",
       "      <td>365</td>\n",
       "    </tr>\n",
       "  </tbody>\n",
       "</table>\n",
       "<p>5 rows × 30 columns</p>\n",
       "</div>"
      ],
      "text/plain": [
       "        id  review_scores_value host_is_superhost neighbourhood_cleansed  \\\n",
       "0   241032                 10.0                 f        West Queen Anne   \n",
       "1   953595                 10.0                 t        West Queen Anne   \n",
       "2  3308979                 10.0                 f        West Queen Anne   \n",
       "3  7421966                  NaN                 f        West Queen Anne   \n",
       "4   278830                  9.0                 f        West Queen Anne   \n",
       "\n",
       "      city property_type        room_type  accommodates  bathrooms  bedrooms  \\\n",
       "0  Seattle     Apartment  Entire home/apt             4        1.0       1.0   \n",
       "1  Seattle     Apartment  Entire home/apt             4        1.0       1.0   \n",
       "2  Seattle         House  Entire home/apt            11        4.5       5.0   \n",
       "3  Seattle     Apartment  Entire home/apt             3        1.0       0.0   \n",
       "4  Seattle         House  Entire home/apt             6        2.0       3.0   \n",
       "\n",
       "   ...  review_scores_rating review_scores_accuracy review_scores_cleanliness  \\\n",
       "0  ...                  95.0                   10.0                      10.0   \n",
       "1  ...                  96.0                   10.0                      10.0   \n",
       "2  ...                  97.0                   10.0                      10.0   \n",
       "3  ...                   NaN                    NaN                       NaN   \n",
       "4  ...                  92.0                    9.0                       9.0   \n",
       "\n",
       "   review_scores_checkin  review_scores_communication  review_scores_location  \\\n",
       "0                   10.0                         10.0                     9.0   \n",
       "1                   10.0                         10.0                    10.0   \n",
       "2                   10.0                         10.0                    10.0   \n",
       "3                    NaN                          NaN                     NaN   \n",
       "4                   10.0                         10.0                     9.0   \n",
       "\n",
       "   cancellation_policy  instant_bookable  reviews_per_month  availability_365  \n",
       "0             moderate                 f               4.07               346  \n",
       "1               strict                 f               1.48               291  \n",
       "2               strict                 f               1.15               220  \n",
       "3             flexible                 f                NaN               143  \n",
       "4               strict                 f               0.89               365  \n",
       "\n",
       "[5 rows x 30 columns]"
      ]
     },
     "execution_count": 36,
     "metadata": {},
     "output_type": "execute_result"
    }
   ],
   "source": [
    "# Combine the Seattle and Boston datasets into a single DataFrame\n",
    "# This allows for unified analysis and modeling across both locations\n",
    "# The ignore_index=True parameter resets the index to ensure continuity\n",
    "\n",
    "listings = pd.concat([seattle_listings, boston_listings], axis=0, ignore_index=True)\n",
    "listings.head()"
   ]
  },
  {
   "cell_type": "markdown",
   "id": "6564828d-5ddb-44a5-9b43-549721d31458",
   "metadata": {},
   "source": [
    "### 4. **Boolean Conversion**\n",
    "- Converted columns with `'t'` and `'f'` values (e.g., `host_is_superhost`, `instant_bookable`) into boolean format (`True` or `False`) for better usability."
   ]
  },
  {
   "cell_type": "code",
   "execution_count": 38,
   "id": "5556c115-03f3-4c1f-8faf-91eb7635c385",
   "metadata": {},
   "outputs": [],
   "source": [
    "# Convert categorical columns with 't' and 'f' values to boolean format\n",
    "# This makes the data easier to interpret and use in modeling\n",
    "\n",
    "for column in ['host_is_superhost','instant_bookable']:\n",
    "    listings[column] = listings[column].map({'t': True, 'f': False})"
   ]
  },
  {
   "cell_type": "markdown",
   "id": "5ab584b3-8c27-4b62-9dab-6df7337a04a6",
   "metadata": {},
   "source": [
    "### 5. **Handling Missing Values**\n",
    "- **Identify Columns with Missing Data**:\n",
    "  - Categorized columns into numerical and categorical types based on their data type and missing value percentage.\n",
    "- **Imputation by City**:\n",
    "  - Filled missing values based on city grouping:\n",
    "    - **Numerical Columns**: Replaced missing values with the mean for each city.\n",
    "    - **Categorical Columns**: Replaced missing values with the mode for each city."
   ]
  },
  {
   "cell_type": "code",
   "execution_count": 40,
   "id": "3bc59779-a5f1-43be-82d6-2836b0484bcb",
   "metadata": {},
   "outputs": [
    {
     "data": {
      "text/plain": [
       "id                                0\n",
       "review_scores_value            1477\n",
       "host_is_superhost                 2\n",
       "neighbourhood_cleansed            0\n",
       "city                              0\n",
       "property_type                     4\n",
       "room_type                         0\n",
       "accommodates                      0\n",
       "bathrooms                        30\n",
       "bedrooms                         16\n",
       "beds                             10\n",
       "bed_type                          0\n",
       "amenities                         0\n",
       "price                             0\n",
       "cleaning_fee                   2137\n",
       "guests_included                   0\n",
       "extra_people                      0\n",
       "minimum_nights                    0\n",
       "maximum_nights                    0\n",
       "number_of_reviews                 0\n",
       "review_scores_rating           1460\n",
       "review_scores_accuracy         1481\n",
       "review_scores_cleanliness      1471\n",
       "review_scores_checkin          1478\n",
       "review_scores_communication    1469\n",
       "review_scores_location         1477\n",
       "cancellation_policy               0\n",
       "instant_bookable                  0\n",
       "reviews_per_month              1383\n",
       "availability_365                  0\n",
       "dtype: int64"
      ]
     },
     "execution_count": 40,
     "metadata": {},
     "output_type": "execute_result"
    }
   ],
   "source": [
    "# Calculate the number of missing values for each column in the dataset\n",
    "# This helps to identify columns that may require imputation or removal\n",
    "\n",
    "listings.isnull().sum()"
   ]
  },
  {
   "cell_type": "code",
   "execution_count": 41,
   "id": "868f10e6-0c69-4a30-9afa-b88adf56948c",
   "metadata": {},
   "outputs": [],
   "source": [
    "# Drop rows with missing values in critical columns such as 'bathrooms', 'bedrooms', 'beds', and 'property_type'\n",
    "# These columns have very few missing values, so removing the rows will not significantly impact the dataset\n",
    "\n",
    "listings.dropna(subset = ['bathrooms','bedrooms','beds','property_type'], axis = 0, inplace = True)"
   ]
  },
  {
   "cell_type": "code",
   "execution_count": 42,
   "id": "073a9767-6103-43f2-a301-537a55786a5e",
   "metadata": {},
   "outputs": [
    {
     "data": {
      "text/plain": [
       "Index(['host_is_superhost'], dtype='object')"
      ]
     },
     "execution_count": 42,
     "metadata": {},
     "output_type": "execute_result"
    }
   ],
   "source": [
    "# Identify categorical columns with missing values\n",
    "categorical_columns = listings.columns[(listings.dtypes == 'object') & (listings.isnull().mean() > 0)]\n",
    "categorical_columns"
   ]
  },
  {
   "cell_type": "code",
   "execution_count": 43,
   "id": "8ccb19d4-d14f-4dc8-be0d-986f703bac10",
   "metadata": {},
   "outputs": [
    {
     "data": {
      "text/plain": [
       "Index(['review_scores_value', 'cleaning_fee', 'review_scores_rating',\n",
       "       'review_scores_accuracy', 'review_scores_cleanliness',\n",
       "       'review_scores_checkin', 'review_scores_communication',\n",
       "       'review_scores_location', 'reviews_per_month'],\n",
       "      dtype='object')"
      ]
     },
     "execution_count": 43,
     "metadata": {},
     "output_type": "execute_result"
    }
   ],
   "source": [
    "# Identify numerical columns with missing values\n",
    "numerical_columns = listings.columns[((listings.dtypes == 'float64') | (listings.dtypes == 'int64')) & (listings.isnull().mean() > 0)]\n",
    "numerical_columns"
   ]
  },
  {
   "cell_type": "code",
   "execution_count": 44,
   "id": "5ad1450e-83f7-47fd-b4ab-339cfaf6a048",
   "metadata": {},
   "outputs": [
    {
     "data": {
      "text/plain": [
       "['review_scores_value',\n",
       " 'host_is_superhost',\n",
       " 'cleaning_fee',\n",
       " 'review_scores_rating',\n",
       " 'review_scores_accuracy',\n",
       " 'review_scores_cleanliness',\n",
       " 'review_scores_checkin',\n",
       " 'review_scores_communication',\n",
       " 'review_scores_location',\n",
       " 'reviews_per_month']"
      ]
     },
     "execution_count": 44,
     "metadata": {},
     "output_type": "execute_result"
    }
   ],
   "source": [
    "list(listings.columns[listings.isnull().mean() > 0])"
   ]
  },
  {
   "cell_type": "code",
   "execution_count": 45,
   "id": "1a83d026-73c7-4d40-a7cc-fe7588c95a44",
   "metadata": {},
   "outputs": [
    {
     "name": "stderr",
     "output_type": "stream",
     "text": [
      "C:\\Users\\raissa.monteiro\\AppData\\Local\\Temp\\ipykernel_31072\\4019864020.py:31: FutureWarning: Downcasting object dtype arrays on .fillna, .ffill, .bfill is deprecated and will change in a future version. Call result.infer_objects(copy=False) instead. To opt-in to the future behavior, set `pd.set_option('future.no_silent_downcasting', True)`\n",
      "  df[col] = grouped[col].transform(lambda x: x.fillna(x.mode().iloc[0]))\n"
     ]
    }
   ],
   "source": [
    "def fill_by_city(df, group_col, target_cols, type_col):\n",
    "    \"\"\"\n",
    "    Fill missing values in a DataFrame based on the mean (for numerical columns) \n",
    "    or mode (for categorical columns) within groups defined by a specific column.\n",
    "\n",
    "    Args:\n",
    "    df (DataFrame): The input DataFrame to process.\n",
    "    group_col (str): The column used to group the data (e.g., 'city').\n",
    "    target_cols (list): List of columns to process and fill missing values.\n",
    "    type_col (str): The type of the target columns - either 'numerical' or 'categorical'.\n",
    "\n",
    "    Returns:\n",
    "    DataFrame: The DataFrame with missing values filled in the specified columns.\n",
    "\n",
    "    Steps:\n",
    "    1. Group the DataFrame by the specified column (`group_col`).\n",
    "    2. For numerical columns:\n",
    "       - Calculate the mean for each group and fill missing values with it.\n",
    "    3. For categorical columns:\n",
    "       - Calculate the mode for each group and fill missing values with it.\n",
    "    4. Return the updated DataFrame.\n",
    "    \"\"\"\n",
    "    grouped = df.groupby(group_col)\n",
    "\n",
    "    if type_col == 'numerical':\n",
    "        for col in target_cols:\n",
    "            df[col] = grouped[col].transform(lambda x: x.fillna(x.mean()))\n",
    "        return df\n",
    "    else:\n",
    "        for col in target_cols:\n",
    "            df[col] = grouped[col].transform(lambda x: x.fillna(x.mode().iloc[0]))\n",
    "        return df\n",
    "\n",
    "# Example usage:\n",
    "listings = fill_by_city(listings, 'city', numerical_columns, 'numerical')\n",
    "listings = fill_by_city(listings, 'city', ['host_is_superhost'], 'categorical')"
   ]
  },
  {
   "cell_type": "markdown",
   "id": "211a9921-2b4e-413d-b958-3a238d6189bd",
   "metadata": {},
   "source": [
    "### 6. **Amenity Cleaning**\n",
    "- Processed the `amenities` column by:\n",
    "  - Splitting strings into individual amenities.\n",
    "  - Standardizing text by removing unnecessary characters, converting to lowercase, and trimming spaces."
   ]
  },
  {
   "cell_type": "code",
   "execution_count": 47,
   "id": "d08ed5a1-181d-4100-b0d3-7ffd581afaef",
   "metadata": {},
   "outputs": [],
   "source": [
    "#Clean and preprocess the 'amenities' column\n",
    "#This splits the amenities string into a list of individual amenities, then applies transformations to standardize the text by:\n",
    "# - Removing extra spaces\n",
    "# - Converting to lowercase\n",
    "# - Stripping unnecessary characters like quotes and braces\n",
    "\n",
    "listings['amenities'] = listings['amenities'].fillna('')\n",
    "\n",
    "listings['cleaned_amenities'] = listings['amenities'].str.split(',').apply(\n",
    "    lambda x: [item.strip().lower().replace('\"', '').replace(\"'\", '').replace('{', '').replace('}', '') for item in x]\n",
    ")"
   ]
  },
  {
   "cell_type": "markdown",
   "id": "2da58f6f-7950-4565-825f-8401ae905a25",
   "metadata": {},
   "source": [
    "### 7. **Verification**\n",
    "- Checked for remaining missing values and previewed the cleaned dataset.\n",
    "\n",
    "These steps ensure the datasets are consistent, clean, and ready for robust analysis or modeling."
   ]
  },
  {
   "cell_type": "code",
   "execution_count": 49,
   "id": "2c856f9c-e536-42c1-8ce7-fabac3b358c6",
   "metadata": {},
   "outputs": [
    {
     "data": {
      "text/plain": [
       "id                             False\n",
       "review_scores_value            False\n",
       "host_is_superhost              False\n",
       "neighbourhood_cleansed         False\n",
       "city                           False\n",
       "property_type                  False\n",
       "room_type                      False\n",
       "accommodates                   False\n",
       "bathrooms                      False\n",
       "bedrooms                       False\n",
       "beds                           False\n",
       "bed_type                       False\n",
       "amenities                      False\n",
       "price                          False\n",
       "cleaning_fee                   False\n",
       "guests_included                False\n",
       "extra_people                   False\n",
       "minimum_nights                 False\n",
       "maximum_nights                 False\n",
       "number_of_reviews              False\n",
       "review_scores_rating           False\n",
       "review_scores_accuracy         False\n",
       "review_scores_cleanliness      False\n",
       "review_scores_checkin          False\n",
       "review_scores_communication    False\n",
       "review_scores_location         False\n",
       "cancellation_policy            False\n",
       "instant_bookable               False\n",
       "reviews_per_month              False\n",
       "availability_365               False\n",
       "cleaned_amenities              False\n",
       "dtype: bool"
      ]
     },
     "execution_count": 49,
     "metadata": {},
     "output_type": "execute_result"
    }
   ],
   "source": [
    "listings.isnull().any()"
   ]
  },
  {
   "cell_type": "code",
   "execution_count": 50,
   "id": "20fe619f-c9c8-4cb1-a74f-6eee24a425f3",
   "metadata": {},
   "outputs": [
    {
     "data": {
      "text/html": [
       "<div>\n",
       "<style scoped>\n",
       "    .dataframe tbody tr th:only-of-type {\n",
       "        vertical-align: middle;\n",
       "    }\n",
       "\n",
       "    .dataframe tbody tr th {\n",
       "        vertical-align: top;\n",
       "    }\n",
       "\n",
       "    .dataframe thead th {\n",
       "        text-align: right;\n",
       "    }\n",
       "</style>\n",
       "<table border=\"1\" class=\"dataframe\">\n",
       "  <thead>\n",
       "    <tr style=\"text-align: right;\">\n",
       "      <th></th>\n",
       "      <th>id</th>\n",
       "      <th>review_scores_value</th>\n",
       "      <th>host_is_superhost</th>\n",
       "      <th>neighbourhood_cleansed</th>\n",
       "      <th>city</th>\n",
       "      <th>property_type</th>\n",
       "      <th>room_type</th>\n",
       "      <th>accommodates</th>\n",
       "      <th>bathrooms</th>\n",
       "      <th>bedrooms</th>\n",
       "      <th>...</th>\n",
       "      <th>review_scores_accuracy</th>\n",
       "      <th>review_scores_cleanliness</th>\n",
       "      <th>review_scores_checkin</th>\n",
       "      <th>review_scores_communication</th>\n",
       "      <th>review_scores_location</th>\n",
       "      <th>cancellation_policy</th>\n",
       "      <th>instant_bookable</th>\n",
       "      <th>reviews_per_month</th>\n",
       "      <th>availability_365</th>\n",
       "      <th>cleaned_amenities</th>\n",
       "    </tr>\n",
       "  </thead>\n",
       "  <tbody>\n",
       "    <tr>\n",
       "      <th>0</th>\n",
       "      <td>241032</td>\n",
       "      <td>10.00000</td>\n",
       "      <td>False</td>\n",
       "      <td>West Queen Anne</td>\n",
       "      <td>Seattle</td>\n",
       "      <td>Apartment</td>\n",
       "      <td>Entire home/apt</td>\n",
       "      <td>4</td>\n",
       "      <td>1.0</td>\n",
       "      <td>1.0</td>\n",
       "      <td>...</td>\n",
       "      <td>10.000000</td>\n",
       "      <td>10.000000</td>\n",
       "      <td>10.000000</td>\n",
       "      <td>10.000000</td>\n",
       "      <td>9.000000</td>\n",
       "      <td>moderate</td>\n",
       "      <td>False</td>\n",
       "      <td>4.070000</td>\n",
       "      <td>346</td>\n",
       "      <td>[tv, cable tv, internet, wireless internet, ai...</td>\n",
       "    </tr>\n",
       "    <tr>\n",
       "      <th>1</th>\n",
       "      <td>953595</td>\n",
       "      <td>10.00000</td>\n",
       "      <td>True</td>\n",
       "      <td>West Queen Anne</td>\n",
       "      <td>Seattle</td>\n",
       "      <td>Apartment</td>\n",
       "      <td>Entire home/apt</td>\n",
       "      <td>4</td>\n",
       "      <td>1.0</td>\n",
       "      <td>1.0</td>\n",
       "      <td>...</td>\n",
       "      <td>10.000000</td>\n",
       "      <td>10.000000</td>\n",
       "      <td>10.000000</td>\n",
       "      <td>10.000000</td>\n",
       "      <td>10.000000</td>\n",
       "      <td>strict</td>\n",
       "      <td>False</td>\n",
       "      <td>1.480000</td>\n",
       "      <td>291</td>\n",
       "      <td>[tv, internet, wireless internet, kitchen, fre...</td>\n",
       "    </tr>\n",
       "    <tr>\n",
       "      <th>2</th>\n",
       "      <td>3308979</td>\n",
       "      <td>10.00000</td>\n",
       "      <td>False</td>\n",
       "      <td>West Queen Anne</td>\n",
       "      <td>Seattle</td>\n",
       "      <td>House</td>\n",
       "      <td>Entire home/apt</td>\n",
       "      <td>11</td>\n",
       "      <td>4.5</td>\n",
       "      <td>5.0</td>\n",
       "      <td>...</td>\n",
       "      <td>10.000000</td>\n",
       "      <td>10.000000</td>\n",
       "      <td>10.000000</td>\n",
       "      <td>10.000000</td>\n",
       "      <td>10.000000</td>\n",
       "      <td>strict</td>\n",
       "      <td>False</td>\n",
       "      <td>1.150000</td>\n",
       "      <td>220</td>\n",
       "      <td>[tv, cable tv, internet, wireless internet, ai...</td>\n",
       "    </tr>\n",
       "    <tr>\n",
       "      <th>3</th>\n",
       "      <td>7421966</td>\n",
       "      <td>9.45388</td>\n",
       "      <td>False</td>\n",
       "      <td>West Queen Anne</td>\n",
       "      <td>Seattle</td>\n",
       "      <td>Apartment</td>\n",
       "      <td>Entire home/apt</td>\n",
       "      <td>3</td>\n",
       "      <td>1.0</td>\n",
       "      <td>0.0</td>\n",
       "      <td>...</td>\n",
       "      <td>9.635901</td>\n",
       "      <td>9.557038</td>\n",
       "      <td>9.788033</td>\n",
       "      <td>9.811686</td>\n",
       "      <td>9.609857</td>\n",
       "      <td>flexible</td>\n",
       "      <td>False</td>\n",
       "      <td>2.084119</td>\n",
       "      <td>143</td>\n",
       "      <td>[internet, wireless internet, kitchen, indoor ...</td>\n",
       "    </tr>\n",
       "    <tr>\n",
       "      <th>4</th>\n",
       "      <td>278830</td>\n",
       "      <td>9.00000</td>\n",
       "      <td>False</td>\n",
       "      <td>West Queen Anne</td>\n",
       "      <td>Seattle</td>\n",
       "      <td>House</td>\n",
       "      <td>Entire home/apt</td>\n",
       "      <td>6</td>\n",
       "      <td>2.0</td>\n",
       "      <td>3.0</td>\n",
       "      <td>...</td>\n",
       "      <td>9.000000</td>\n",
       "      <td>9.000000</td>\n",
       "      <td>10.000000</td>\n",
       "      <td>10.000000</td>\n",
       "      <td>9.000000</td>\n",
       "      <td>strict</td>\n",
       "      <td>False</td>\n",
       "      <td>0.890000</td>\n",
       "      <td>365</td>\n",
       "      <td>[tv, cable tv, internet, wireless internet, ki...</td>\n",
       "    </tr>\n",
       "  </tbody>\n",
       "</table>\n",
       "<p>5 rows × 31 columns</p>\n",
       "</div>"
      ],
      "text/plain": [
       "        id  review_scores_value  host_is_superhost neighbourhood_cleansed  \\\n",
       "0   241032             10.00000              False        West Queen Anne   \n",
       "1   953595             10.00000               True        West Queen Anne   \n",
       "2  3308979             10.00000              False        West Queen Anne   \n",
       "3  7421966              9.45388              False        West Queen Anne   \n",
       "4   278830              9.00000              False        West Queen Anne   \n",
       "\n",
       "      city property_type        room_type  accommodates  bathrooms  bedrooms  \\\n",
       "0  Seattle     Apartment  Entire home/apt             4        1.0       1.0   \n",
       "1  Seattle     Apartment  Entire home/apt             4        1.0       1.0   \n",
       "2  Seattle         House  Entire home/apt            11        4.5       5.0   \n",
       "3  Seattle     Apartment  Entire home/apt             3        1.0       0.0   \n",
       "4  Seattle         House  Entire home/apt             6        2.0       3.0   \n",
       "\n",
       "   ...  review_scores_accuracy review_scores_cleanliness  \\\n",
       "0  ...               10.000000                 10.000000   \n",
       "1  ...               10.000000                 10.000000   \n",
       "2  ...               10.000000                 10.000000   \n",
       "3  ...                9.635901                  9.557038   \n",
       "4  ...                9.000000                  9.000000   \n",
       "\n",
       "  review_scores_checkin  review_scores_communication  review_scores_location  \\\n",
       "0             10.000000                    10.000000                9.000000   \n",
       "1             10.000000                    10.000000               10.000000   \n",
       "2             10.000000                    10.000000               10.000000   \n",
       "3              9.788033                     9.811686                9.609857   \n",
       "4             10.000000                    10.000000                9.000000   \n",
       "\n",
       "   cancellation_policy  instant_bookable  reviews_per_month  availability_365  \\\n",
       "0             moderate             False           4.070000               346   \n",
       "1               strict             False           1.480000               291   \n",
       "2               strict             False           1.150000               220   \n",
       "3             flexible             False           2.084119               143   \n",
       "4               strict             False           0.890000               365   \n",
       "\n",
       "                                   cleaned_amenities  \n",
       "0  [tv, cable tv, internet, wireless internet, ai...  \n",
       "1  [tv, internet, wireless internet, kitchen, fre...  \n",
       "2  [tv, cable tv, internet, wireless internet, ai...  \n",
       "3  [internet, wireless internet, kitchen, indoor ...  \n",
       "4  [tv, cable tv, internet, wireless internet, ki...  \n",
       "\n",
       "[5 rows x 31 columns]"
      ]
     },
     "execution_count": 50,
     "metadata": {},
     "output_type": "execute_result"
    }
   ],
   "source": [
    "listings.head()"
   ]
  },
  {
   "cell_type": "code",
   "execution_count": 51,
   "id": "b53a5859-cfee-430c-b48f-60d06e498803",
   "metadata": {},
   "outputs": [],
   "source": [
    "### Creating a Copy of the Listings DataFrame\n",
    "\n",
    "# - A new DataFrame `new_listings` is created as a copy of the original `listings` dataset.\n",
    "# - This ensures that the original `listings` DataFrame remains unaltered while allowing further transformations and analyses to be performed on `new_listings`.\n",
    "\n",
    "new_listings = listings.copy()"
   ]
  },
  {
   "cell_type": "markdown",
   "id": "66b8fd8d-82c1-432b-847c-198376bebd05",
   "metadata": {},
   "source": [
    "## Feature Engineering and Dataset Transformation\n",
    "\n",
    "This section focuses on engineering features from the amenities and categorical columns, as well as preparing the dataset for analysis and modeling. The steps are:\n",
    "\n",
    "- 1. **Extract Unique Amenities**\n",
    "- 2. **Create Boolean Columns for Each Amenity**\n",
    "- 3. **Drop Irrelevant Columns**\n",
    "- 4. **Handle Categorical Columns**\n",
    "- 5. **Combine Encoded Features**\n",
    "- 6. **Standardize Column Names**\n",
    "- 7. **Convert Boolean Columns to Integers**\n",
    " \n",
    "These transformations ensure that the dataset is fully numeric and ready for further analysis and modeling."
   ]
  },
  {
   "cell_type": "markdown",
   "id": "f76e0b36-9ba7-40e3-abc9-910a498f674d",
   "metadata": {},
   "source": [
    "### 1. **Extract Unique Amenities**\n",
    "- Flattened all lists in the `cleaned_amenities` column to create a unique set of amenities.\n",
    "- This ensures each unique amenity is represented only once."
   ]
  },
  {
   "cell_type": "code",
   "execution_count": 54,
   "id": "e9f3e034-0eb6-410c-865a-aaaa772cd2fe",
   "metadata": {},
   "outputs": [],
   "source": [
    "unique_amenities = set(item for sublist in listings['cleaned_amenities'] for item in sublist)"
   ]
  },
  {
   "cell_type": "markdown",
   "id": "08075f07-80f0-4e18-ba67-91919218bff5",
   "metadata": {},
   "source": [
    "### 2. **Create Boolean Columns for Each Amenity**\n",
    "- For each unique amenity, a new boolean column is created indicating whether the amenity is present (`True`) or not (`False`) in each listing."
   ]
  },
  {
   "cell_type": "code",
   "execution_count": 56,
   "id": "1d233b97-3250-408d-b9be-7293cb85dc5c",
   "metadata": {
    "scrolled": true
   },
   "outputs": [],
   "source": [
    "for amenity in unique_amenities:\n",
    "    listings[amenity] = listings['cleaned_amenities'].apply(lambda x: True if amenity in x else False)"
   ]
  },
  {
   "cell_type": "markdown",
   "id": "2ce1c71a-9821-4f8f-8ff0-2f2e84166df8",
   "metadata": {},
   "source": [
    "### 3. **Drop Irrelevant Columns**\n",
    "- Removed the original `amenities`, `cleaned_amenities`, and any placeholder columns as they are no longer needed."
   ]
  },
  {
   "cell_type": "code",
   "execution_count": 58,
   "id": "b6f7ed6f-2d56-455b-a645-3570082ad835",
   "metadata": {},
   "outputs": [],
   "source": [
    "listings.drop(columns = ['amenities','cleaned_amenities',''], inplace = True)"
   ]
  },
  {
   "cell_type": "markdown",
   "id": "e4e1c78b-befe-4006-931c-87d01a51019f",
   "metadata": {},
   "source": [
    "### 4. **Handle Categorical Columns**\n",
    "- Identified categorical columns and applied one-hot encoding to convert them into numerical format:\n",
    "  - Each category is represented as a separate binary column (e.g., `room_type_Private Room`).\n",
    "  - Used `drop_first=True` to avoid multicollinearity by excluding the first category."
   ]
  },
  {
   "cell_type": "code",
   "execution_count": 60,
   "id": "5c1c7c4b-0c1b-47cb-81bb-12b6013c49bd",
   "metadata": {},
   "outputs": [
    {
     "data": {
      "text/plain": [
       "Index(['neighbourhood_cleansed', 'city', 'property_type', 'room_type',\n",
       "       'bed_type', 'cancellation_policy'],\n",
       "      dtype='object')"
      ]
     },
     "execution_count": 60,
     "metadata": {},
     "output_type": "execute_result"
    }
   ],
   "source": [
    "categorical_columns = listings.columns[listings.dtypes == 'object']\n",
    "categorical_columns"
   ]
  },
  {
   "cell_type": "code",
   "execution_count": 61,
   "id": "b44a58f2-659e-4d41-8fc9-67e5e0df3ad0",
   "metadata": {},
   "outputs": [],
   "source": [
    "# This converts categorical features into numerical format using one-hot encoding, making them suitable for analysis and machine learning models\n",
    "\n",
    "dummies = pd.get_dummies(data = listings[categorical_columns], drop_first = True, dummy_na = False)"
   ]
  },
  {
   "cell_type": "code",
   "execution_count": 62,
   "id": "a465062c-bf1f-4e94-80f8-f30b54b279ef",
   "metadata": {},
   "outputs": [],
   "source": [
    "listings.drop(columns = categorical_columns, inplace = True)"
   ]
  },
  {
   "cell_type": "markdown",
   "id": "9d8cc731-8a13-4133-b385-1e301ddfb2a2",
   "metadata": {},
   "source": [
    "### 5. **Combine Encoded Features**\n",
    "- Appended the one-hot encoded features to the original dataset to create `treated_listings`, which now includes all numerical and binary columns."
   ]
  },
  {
   "cell_type": "code",
   "execution_count": 64,
   "id": "925096ae-e944-4040-b644-af5d81c1b161",
   "metadata": {
    "scrolled": true
   },
   "outputs": [
    {
     "data": {
      "text/html": [
       "<div>\n",
       "<style scoped>\n",
       "    .dataframe tbody tr th:only-of-type {\n",
       "        vertical-align: middle;\n",
       "    }\n",
       "\n",
       "    .dataframe tbody tr th {\n",
       "        vertical-align: top;\n",
       "    }\n",
       "\n",
       "    .dataframe thead th {\n",
       "        text-align: right;\n",
       "    }\n",
       "</style>\n",
       "<table border=\"1\" class=\"dataframe\">\n",
       "  <thead>\n",
       "    <tr style=\"text-align: right;\">\n",
       "      <th></th>\n",
       "      <th>id</th>\n",
       "      <th>review_scores_value</th>\n",
       "      <th>host_is_superhost</th>\n",
       "      <th>accommodates</th>\n",
       "      <th>bathrooms</th>\n",
       "      <th>bedrooms</th>\n",
       "      <th>beds</th>\n",
       "      <th>price</th>\n",
       "      <th>cleaning_fee</th>\n",
       "      <th>guests_included</th>\n",
       "      <th>...</th>\n",
       "      <th>property_type_Yurt</th>\n",
       "      <th>room_type_Private room</th>\n",
       "      <th>room_type_Shared room</th>\n",
       "      <th>bed_type_Couch</th>\n",
       "      <th>bed_type_Futon</th>\n",
       "      <th>bed_type_Pull-out Sofa</th>\n",
       "      <th>bed_type_Real Bed</th>\n",
       "      <th>cancellation_policy_moderate</th>\n",
       "      <th>cancellation_policy_strict</th>\n",
       "      <th>cancellation_policy_super_strict_30</th>\n",
       "    </tr>\n",
       "  </thead>\n",
       "  <tbody>\n",
       "    <tr>\n",
       "      <th>0</th>\n",
       "      <td>241032</td>\n",
       "      <td>10.00000</td>\n",
       "      <td>False</td>\n",
       "      <td>4</td>\n",
       "      <td>1.0</td>\n",
       "      <td>1.0</td>\n",
       "      <td>1.0</td>\n",
       "      <td>85.0</td>\n",
       "      <td>61.711039</td>\n",
       "      <td>2</td>\n",
       "      <td>...</td>\n",
       "      <td>False</td>\n",
       "      <td>False</td>\n",
       "      <td>False</td>\n",
       "      <td>False</td>\n",
       "      <td>False</td>\n",
       "      <td>False</td>\n",
       "      <td>True</td>\n",
       "      <td>True</td>\n",
       "      <td>False</td>\n",
       "      <td>False</td>\n",
       "    </tr>\n",
       "    <tr>\n",
       "      <th>1</th>\n",
       "      <td>953595</td>\n",
       "      <td>10.00000</td>\n",
       "      <td>True</td>\n",
       "      <td>4</td>\n",
       "      <td>1.0</td>\n",
       "      <td>1.0</td>\n",
       "      <td>1.0</td>\n",
       "      <td>150.0</td>\n",
       "      <td>40.000000</td>\n",
       "      <td>1</td>\n",
       "      <td>...</td>\n",
       "      <td>False</td>\n",
       "      <td>False</td>\n",
       "      <td>False</td>\n",
       "      <td>False</td>\n",
       "      <td>False</td>\n",
       "      <td>False</td>\n",
       "      <td>True</td>\n",
       "      <td>False</td>\n",
       "      <td>True</td>\n",
       "      <td>False</td>\n",
       "    </tr>\n",
       "    <tr>\n",
       "      <th>2</th>\n",
       "      <td>3308979</td>\n",
       "      <td>10.00000</td>\n",
       "      <td>False</td>\n",
       "      <td>11</td>\n",
       "      <td>4.5</td>\n",
       "      <td>5.0</td>\n",
       "      <td>7.0</td>\n",
       "      <td>975.0</td>\n",
       "      <td>300.000000</td>\n",
       "      <td>10</td>\n",
       "      <td>...</td>\n",
       "      <td>False</td>\n",
       "      <td>False</td>\n",
       "      <td>False</td>\n",
       "      <td>False</td>\n",
       "      <td>False</td>\n",
       "      <td>False</td>\n",
       "      <td>True</td>\n",
       "      <td>False</td>\n",
       "      <td>True</td>\n",
       "      <td>False</td>\n",
       "    </tr>\n",
       "    <tr>\n",
       "      <th>3</th>\n",
       "      <td>7421966</td>\n",
       "      <td>9.45388</td>\n",
       "      <td>False</td>\n",
       "      <td>3</td>\n",
       "      <td>1.0</td>\n",
       "      <td>0.0</td>\n",
       "      <td>2.0</td>\n",
       "      <td>100.0</td>\n",
       "      <td>61.711039</td>\n",
       "      <td>1</td>\n",
       "      <td>...</td>\n",
       "      <td>False</td>\n",
       "      <td>False</td>\n",
       "      <td>False</td>\n",
       "      <td>False</td>\n",
       "      <td>False</td>\n",
       "      <td>False</td>\n",
       "      <td>True</td>\n",
       "      <td>False</td>\n",
       "      <td>False</td>\n",
       "      <td>False</td>\n",
       "    </tr>\n",
       "    <tr>\n",
       "      <th>4</th>\n",
       "      <td>278830</td>\n",
       "      <td>9.00000</td>\n",
       "      <td>False</td>\n",
       "      <td>6</td>\n",
       "      <td>2.0</td>\n",
       "      <td>3.0</td>\n",
       "      <td>3.0</td>\n",
       "      <td>450.0</td>\n",
       "      <td>125.000000</td>\n",
       "      <td>6</td>\n",
       "      <td>...</td>\n",
       "      <td>False</td>\n",
       "      <td>False</td>\n",
       "      <td>False</td>\n",
       "      <td>False</td>\n",
       "      <td>False</td>\n",
       "      <td>False</td>\n",
       "      <td>True</td>\n",
       "      <td>False</td>\n",
       "      <td>True</td>\n",
       "      <td>False</td>\n",
       "    </tr>\n",
       "  </tbody>\n",
       "</table>\n",
       "<p>5 rows × 206 columns</p>\n",
       "</div>"
      ],
      "text/plain": [
       "        id  review_scores_value  host_is_superhost  accommodates  bathrooms  \\\n",
       "0   241032             10.00000              False             4        1.0   \n",
       "1   953595             10.00000               True             4        1.0   \n",
       "2  3308979             10.00000              False            11        4.5   \n",
       "3  7421966              9.45388              False             3        1.0   \n",
       "4   278830              9.00000              False             6        2.0   \n",
       "\n",
       "   bedrooms  beds  price  cleaning_fee  guests_included  ...  \\\n",
       "0       1.0   1.0   85.0     61.711039                2  ...   \n",
       "1       1.0   1.0  150.0     40.000000                1  ...   \n",
       "2       5.0   7.0  975.0    300.000000               10  ...   \n",
       "3       0.0   2.0  100.0     61.711039                1  ...   \n",
       "4       3.0   3.0  450.0    125.000000                6  ...   \n",
       "\n",
       "   property_type_Yurt  room_type_Private room  room_type_Shared room  \\\n",
       "0               False                   False                  False   \n",
       "1               False                   False                  False   \n",
       "2               False                   False                  False   \n",
       "3               False                   False                  False   \n",
       "4               False                   False                  False   \n",
       "\n",
       "   bed_type_Couch  bed_type_Futon  bed_type_Pull-out Sofa  bed_type_Real Bed  \\\n",
       "0           False           False                   False               True   \n",
       "1           False           False                   False               True   \n",
       "2           False           False                   False               True   \n",
       "3           False           False                   False               True   \n",
       "4           False           False                   False               True   \n",
       "\n",
       "   cancellation_policy_moderate  cancellation_policy_strict  \\\n",
       "0                          True                       False   \n",
       "1                         False                        True   \n",
       "2                         False                        True   \n",
       "3                         False                       False   \n",
       "4                         False                        True   \n",
       "\n",
       "   cancellation_policy_super_strict_30  \n",
       "0                                False  \n",
       "1                                False  \n",
       "2                                False  \n",
       "3                                False  \n",
       "4                                False  \n",
       "\n",
       "[5 rows x 206 columns]"
      ]
     },
     "execution_count": 64,
     "metadata": {},
     "output_type": "execute_result"
    }
   ],
   "source": [
    "# Combine the original listings DataFrame with the dummies DataFrame\n",
    "# This appends the dummy columns (created for categorical variables or amenities) to the original dataset\n",
    "# The combined DataFrame, 'treated_listings', will include all features for analysis and modeling\n",
    "\n",
    "treated_listings = pd.concat([listings, dummies], axis = 1)\n",
    "treated_listings.head()"
   ]
  },
  {
   "cell_type": "markdown",
   "id": "9c6d18a2-4eec-430a-8a43-8ef3319ecf6e",
   "metadata": {},
   "source": [
    "### 6. **Standardize Column Names**\n",
    "- Renamed columns to follow a consistent and machine-readable format:\n",
    "  - Removed spaces, special characters, and replaced spaces with underscores.\n",
    "  - Converted column names to lowercase for uniformity."
   ]
  },
  {
   "cell_type": "code",
   "execution_count": 66,
   "id": "ec225eca-d188-457f-a9c6-7cf106dccae7",
   "metadata": {},
   "outputs": [],
   "source": [
    "# Standardize column names in the treated_listings DataFrame\n",
    "\n",
    "treated_listings.columns = treated_listings.columns.str.strip() # - Remove leading and trailing spaces\n",
    "treated_listings.columns = treated_listings.columns.str.lower() # - Convert all column names to lowercase\n",
    "treated_listings.columns = treated_listings.columns.str.replace(r'[^\\w\\s]', '', regex=True) # - Remove special characters\n",
    "treated_listings.columns = treated_listings.columns.str.replace(r'\\s+', '_', regex=True) # - Replace spaces with underscores to ensure consistent naming"
   ]
  },
  {
   "cell_type": "markdown",
   "id": "6b5d1c55-a605-488b-8b53-7f552e394fa8",
   "metadata": {},
   "source": [
    "### 7. **Convert Boolean Columns to Integers**\n",
    "- Transformed boolean columns (`True`/`False`) into integers (`1`/`0`) for compatibility with machine learning models.\n",
    "\n",
    "These transformations ensure that the dataset is fully numeric and ready for further analysis and modeling."
   ]
  },
  {
   "cell_type": "code",
   "execution_count": 68,
   "id": "8c5bc929-6c8a-43d7-b827-8769eef6c592",
   "metadata": {},
   "outputs": [],
   "source": [
    "# Convert boolean columns in the treated_listings DataFrame to integers (0 and 1)\n",
    "# This ensures compatibility with machine learning models that may not handle boolean types directly\n",
    "\n",
    "treated_listings = treated_listings.astype({col: 'int' for col in treated_listings.select_dtypes('bool').columns})"
   ]
  },
  {
   "cell_type": "code",
   "execution_count": 69,
   "id": "2355b0b6-0fab-44ab-bd43-2166141706bb",
   "metadata": {},
   "outputs": [
    {
     "data": {
      "text/html": [
       "<div>\n",
       "<style scoped>\n",
       "    .dataframe tbody tr th:only-of-type {\n",
       "        vertical-align: middle;\n",
       "    }\n",
       "\n",
       "    .dataframe tbody tr th {\n",
       "        vertical-align: top;\n",
       "    }\n",
       "\n",
       "    .dataframe thead th {\n",
       "        text-align: right;\n",
       "    }\n",
       "</style>\n",
       "<table border=\"1\" class=\"dataframe\">\n",
       "  <thead>\n",
       "    <tr style=\"text-align: right;\">\n",
       "      <th></th>\n",
       "      <th>id</th>\n",
       "      <th>review_scores_value</th>\n",
       "      <th>host_is_superhost</th>\n",
       "      <th>accommodates</th>\n",
       "      <th>bathrooms</th>\n",
       "      <th>bedrooms</th>\n",
       "      <th>beds</th>\n",
       "      <th>price</th>\n",
       "      <th>cleaning_fee</th>\n",
       "      <th>guests_included</th>\n",
       "      <th>...</th>\n",
       "      <th>property_type_yurt</th>\n",
       "      <th>room_type_private_room</th>\n",
       "      <th>room_type_shared_room</th>\n",
       "      <th>bed_type_couch</th>\n",
       "      <th>bed_type_futon</th>\n",
       "      <th>bed_type_pullout_sofa</th>\n",
       "      <th>bed_type_real_bed</th>\n",
       "      <th>cancellation_policy_moderate</th>\n",
       "      <th>cancellation_policy_strict</th>\n",
       "      <th>cancellation_policy_super_strict_30</th>\n",
       "    </tr>\n",
       "  </thead>\n",
       "  <tbody>\n",
       "    <tr>\n",
       "      <th>0</th>\n",
       "      <td>241032</td>\n",
       "      <td>10.00000</td>\n",
       "      <td>0</td>\n",
       "      <td>4</td>\n",
       "      <td>1.0</td>\n",
       "      <td>1.0</td>\n",
       "      <td>1.0</td>\n",
       "      <td>85.0</td>\n",
       "      <td>61.711039</td>\n",
       "      <td>2</td>\n",
       "      <td>...</td>\n",
       "      <td>0</td>\n",
       "      <td>0</td>\n",
       "      <td>0</td>\n",
       "      <td>0</td>\n",
       "      <td>0</td>\n",
       "      <td>0</td>\n",
       "      <td>1</td>\n",
       "      <td>1</td>\n",
       "      <td>0</td>\n",
       "      <td>0</td>\n",
       "    </tr>\n",
       "    <tr>\n",
       "      <th>1</th>\n",
       "      <td>953595</td>\n",
       "      <td>10.00000</td>\n",
       "      <td>1</td>\n",
       "      <td>4</td>\n",
       "      <td>1.0</td>\n",
       "      <td>1.0</td>\n",
       "      <td>1.0</td>\n",
       "      <td>150.0</td>\n",
       "      <td>40.000000</td>\n",
       "      <td>1</td>\n",
       "      <td>...</td>\n",
       "      <td>0</td>\n",
       "      <td>0</td>\n",
       "      <td>0</td>\n",
       "      <td>0</td>\n",
       "      <td>0</td>\n",
       "      <td>0</td>\n",
       "      <td>1</td>\n",
       "      <td>0</td>\n",
       "      <td>1</td>\n",
       "      <td>0</td>\n",
       "    </tr>\n",
       "    <tr>\n",
       "      <th>2</th>\n",
       "      <td>3308979</td>\n",
       "      <td>10.00000</td>\n",
       "      <td>0</td>\n",
       "      <td>11</td>\n",
       "      <td>4.5</td>\n",
       "      <td>5.0</td>\n",
       "      <td>7.0</td>\n",
       "      <td>975.0</td>\n",
       "      <td>300.000000</td>\n",
       "      <td>10</td>\n",
       "      <td>...</td>\n",
       "      <td>0</td>\n",
       "      <td>0</td>\n",
       "      <td>0</td>\n",
       "      <td>0</td>\n",
       "      <td>0</td>\n",
       "      <td>0</td>\n",
       "      <td>1</td>\n",
       "      <td>0</td>\n",
       "      <td>1</td>\n",
       "      <td>0</td>\n",
       "    </tr>\n",
       "    <tr>\n",
       "      <th>3</th>\n",
       "      <td>7421966</td>\n",
       "      <td>9.45388</td>\n",
       "      <td>0</td>\n",
       "      <td>3</td>\n",
       "      <td>1.0</td>\n",
       "      <td>0.0</td>\n",
       "      <td>2.0</td>\n",
       "      <td>100.0</td>\n",
       "      <td>61.711039</td>\n",
       "      <td>1</td>\n",
       "      <td>...</td>\n",
       "      <td>0</td>\n",
       "      <td>0</td>\n",
       "      <td>0</td>\n",
       "      <td>0</td>\n",
       "      <td>0</td>\n",
       "      <td>0</td>\n",
       "      <td>1</td>\n",
       "      <td>0</td>\n",
       "      <td>0</td>\n",
       "      <td>0</td>\n",
       "    </tr>\n",
       "    <tr>\n",
       "      <th>4</th>\n",
       "      <td>278830</td>\n",
       "      <td>9.00000</td>\n",
       "      <td>0</td>\n",
       "      <td>6</td>\n",
       "      <td>2.0</td>\n",
       "      <td>3.0</td>\n",
       "      <td>3.0</td>\n",
       "      <td>450.0</td>\n",
       "      <td>125.000000</td>\n",
       "      <td>6</td>\n",
       "      <td>...</td>\n",
       "      <td>0</td>\n",
       "      <td>0</td>\n",
       "      <td>0</td>\n",
       "      <td>0</td>\n",
       "      <td>0</td>\n",
       "      <td>0</td>\n",
       "      <td>1</td>\n",
       "      <td>0</td>\n",
       "      <td>1</td>\n",
       "      <td>0</td>\n",
       "    </tr>\n",
       "  </tbody>\n",
       "</table>\n",
       "<p>5 rows × 206 columns</p>\n",
       "</div>"
      ],
      "text/plain": [
       "        id  review_scores_value  host_is_superhost  accommodates  bathrooms  \\\n",
       "0   241032             10.00000                  0             4        1.0   \n",
       "1   953595             10.00000                  1             4        1.0   \n",
       "2  3308979             10.00000                  0            11        4.5   \n",
       "3  7421966              9.45388                  0             3        1.0   \n",
       "4   278830              9.00000                  0             6        2.0   \n",
       "\n",
       "   bedrooms  beds  price  cleaning_fee  guests_included  ...  \\\n",
       "0       1.0   1.0   85.0     61.711039                2  ...   \n",
       "1       1.0   1.0  150.0     40.000000                1  ...   \n",
       "2       5.0   7.0  975.0    300.000000               10  ...   \n",
       "3       0.0   2.0  100.0     61.711039                1  ...   \n",
       "4       3.0   3.0  450.0    125.000000                6  ...   \n",
       "\n",
       "   property_type_yurt  room_type_private_room  room_type_shared_room  \\\n",
       "0                   0                       0                      0   \n",
       "1                   0                       0                      0   \n",
       "2                   0                       0                      0   \n",
       "3                   0                       0                      0   \n",
       "4                   0                       0                      0   \n",
       "\n",
       "   bed_type_couch  bed_type_futon  bed_type_pullout_sofa  bed_type_real_bed  \\\n",
       "0               0               0                      0                  1   \n",
       "1               0               0                      0                  1   \n",
       "2               0               0                      0                  1   \n",
       "3               0               0                      0                  1   \n",
       "4               0               0                      0                  1   \n",
       "\n",
       "   cancellation_policy_moderate  cancellation_policy_strict  \\\n",
       "0                             1                           0   \n",
       "1                             0                           1   \n",
       "2                             0                           1   \n",
       "3                             0                           0   \n",
       "4                             0                           1   \n",
       "\n",
       "   cancellation_policy_super_strict_30  \n",
       "0                                    0  \n",
       "1                                    0  \n",
       "2                                    0  \n",
       "3                                    0  \n",
       "4                                    0  \n",
       "\n",
       "[5 rows x 206 columns]"
      ]
     },
     "execution_count": 69,
     "metadata": {},
     "output_type": "execute_result"
    }
   ],
   "source": [
    "treated_listings.head()"
   ]
  },
  {
   "cell_type": "markdown",
   "id": "580fb469-b9cf-4831-8de0-2379cf6fd6e3",
   "metadata": {},
   "source": [
    "## What factors most influence the price of Airbnb accommodations?"
   ]
  },
  {
   "cell_type": "code",
   "execution_count": 71,
   "id": "3147e2ed-6483-43ec-9411-c278de43cd39",
   "metadata": {},
   "outputs": [
    {
     "data": {
      "text/plain": [
       "Index(['review_scores_value', 'accommodates', 'bathrooms', 'bedrooms', 'beds',\n",
       "       'price', 'cleaning_fee', 'guests_included', 'extra_people',\n",
       "       'minimum_nights', 'maximum_nights', 'number_of_reviews',\n",
       "       'review_scores_rating', 'review_scores_accuracy',\n",
       "       'review_scores_cleanliness', 'review_scores_checkin',\n",
       "       'review_scores_communication', 'review_scores_location',\n",
       "       'reviews_per_month', 'availability_365'],\n",
       "      dtype='object')"
      ]
     },
     "execution_count": 71,
     "metadata": {},
     "output_type": "execute_result"
    }
   ],
   "source": [
    "numerical_columns = treated_listings.columns[((treated_listings.dtypes == 'float64') | (treated_listings.dtypes == 'int64'))]\n",
    "numerical_columns = numerical_columns.drop('id')\n",
    "numerical_columns"
   ]
  },
  {
   "cell_type": "code",
   "execution_count": 72,
   "id": "3a59c168-e1c9-446f-a8b7-46220d841dac",
   "metadata": {},
   "outputs": [
    {
     "name": "stdout",
     "output_type": "stream",
     "text": [
      "room_type_private_room                           -0.371333\n",
      "city_seattle                                     -0.185319\n",
      "reviews_per_month                                -0.140757\n",
      "room_type_shared_room                            -0.112215\n",
      "number_of_reviews                                -0.109579\n",
      "pets_live_on_this_property                       -0.101598\n",
      "kitchen                                           0.106109\n",
      "neighbourhood_cleansed_downtown                   0.107270\n",
      "dryer                                             0.107551\n",
      "neighbourhood_cleansed_fenway                     0.113516\n",
      "bed_type_real_bed                                 0.114758\n",
      "hair_dryer                                        0.115816\n",
      "24hour_checkin                                    0.117938\n",
      "iron                                              0.127973\n",
      "neighbourhood_cleansed_south_boston_waterfront    0.133887\n",
      "cancellation_policy_strict                        0.147755\n",
      "neighbourhood_cleansed_back_bay                   0.150620\n",
      "cancellation_policy_super_strict_30               0.151037\n",
      "gym                                               0.156626\n",
      "elevator_in_building                              0.174465\n",
      "doorman                                           0.179903\n",
      "tv                                                0.227391\n",
      "familykid_friendly                                0.232092\n",
      "cable_tv                                          0.241232\n",
      "guests_included                                   0.250424\n",
      "air_conditioning                                  0.254931\n",
      "bathrooms                                         0.333380\n",
      "cleaning_fee                                      0.422087\n",
      "beds                                              0.423419\n",
      "bedrooms                                          0.451268\n",
      "accommodates                                      0.479862\n",
      "price                                             1.000000\n",
      "Name: price, dtype: float64\n"
     ]
    }
   ],
   "source": [
    "# Compute the correlation of all numerical columns with the 'price' column\n",
    "correlation = treated_listings.corr()['price']\n",
    "\n",
    "# Select columns that have a strong enough correlation with 'price'\n",
    "# Criteria:\n",
    "# - Correlation greater than 0.1 (positive correlation)\n",
    "# - Correlation less than -0.1 (negative correlation)\n",
    "selected_columns = correlation[(correlation > 0.10) | (correlation < -0.10)].index.tolist()\n",
    "\n",
    "# Remove 'price' from the selected columns to avoid including the target variable itself\n",
    "#selected_columns.remove('price')\n",
    "\n",
    "# Print the correlations of the selected columns with 'price', sorted by strength of the relationship\n",
    "print(correlation[selected_columns].sort_values())"
   ]
  },
  {
   "cell_type": "code",
   "execution_count": 73,
   "id": "dec67af5-d6e8-4d6b-b001-8f3fa4cd244f",
   "metadata": {},
   "outputs": [
    {
     "name": "stdout",
     "output_type": "stream",
     "text": [
      "                   bedrooms      beds  bed_type_real_bed\n",
      "bedrooms           1.000000  0.735758           0.091055\n",
      "beds               0.735758  1.000000           0.104584\n",
      "bed_type_real_bed  0.091055  0.104584           1.000000\n"
     ]
    }
   ],
   "source": [
    "# Compute the correlation matrix for the selected columns: 'bedrooms', 'beds', and 'bed_type_real_bed'\n",
    "# This helps identify relationships and potential multicollinearity among these features\n",
    "corr_matrix = treated_listings[['bedrooms', 'beds','bed_type_real_bed']].corr()\n",
    "print(corr_matrix)\n",
    "\n",
    "# Remove 'beds' from the list of selected columns\n",
    "# The decision was based on high correlation with bedrooms, suggesting redundancy\n",
    "selected_columns.remove('beds')"
   ]
  },
  {
   "cell_type": "code",
   "execution_count": 74,
   "id": "a5879d0f-465c-437e-bf42-0615a2a1df31",
   "metadata": {},
   "outputs": [
    {
     "name": "stdout",
     "output_type": "stream",
     "text": [
      "The r-squared score for the model was 0.51 on 2205 values for test.\n",
      "The r-squared score for the model was 0.39 on 5144 values for train.\n"
     ]
    }
   ],
   "source": [
    "def fit_linear_mod(df, response_col, test_size = .3, rand_state = 42):\n",
    "    '''\n",
    "    INPUT:\n",
    "    df - a dataframe holding all the variables of interest\n",
    "    response_col - a string holding the name of the column \n",
    "    test_size - a float between [0,1] about what proportion of data should be in the test dataset\n",
    "    rand_state - an int that is provided as the random state for splitting the data into training and test \n",
    "    \n",
    "    OUTPUT:\n",
    "    test_score - float - r2 score on the test data\n",
    "    train_score - float - r2 score on the test data\n",
    "    lm_model - model object from sklearn\n",
    "    X_train_scaled, X_test_scaled, y_train, y_test - output from sklearn train test split used for optimal model\n",
    "    '''\n",
    "    #Split into explanatory and response variables\n",
    "    X = df.drop(response_col, axis=1)\n",
    "    y = df[response_col]\n",
    "\n",
    "    #Split into train and test\n",
    "    X_train, X_test, y_train, y_test = train_test_split(X, y, test_size = test_size, random_state = rand_state)\n",
    "\n",
    "    # Scale the feature data using StandardScaler\n",
    "    # This ensures that features are normalized with mean 0 and standard deviation 1\n",
    "    scaler = StandardScaler()\n",
    "    X_train_scaled = scaler.fit_transform(X_train)\n",
    "    X_test_scaled = scaler.transform(X_test)\n",
    "\n",
    "    X_train_scaled_df = pd.DataFrame(X_train_scaled, columns=X_train.columns, index=X_train.index)\n",
    "    X_test_scaled_df = pd.DataFrame(X_test_scaled, columns=X_test.columns, index=X_test.index)\n",
    "    \n",
    "    # Train a linear regression model on the scaled training data\n",
    "    lm_model = LinearRegression() # Instantiate\n",
    "    lm_model.fit(X_train_scaled, y_train) #Fit\n",
    "\n",
    "    #Predict using the model\n",
    "    y_test_preds = lm_model.predict(X_test_scaled)\n",
    "    y_train_preds = lm_model.predict(X_train_scaled)\n",
    "\n",
    "    #Score using the model\n",
    "    test_score = r2_score(y_test, y_test_preds)\n",
    "    train_score = r2_score(y_train, y_train_preds)\n",
    "    print(\"The r-squared score for the model was {:.2f} on {} values for test.\".format(r2_score(y_test, y_test_preds), len(y_test)))\n",
    "    print(\"The r-squared score for the model was {:.2f} on {} values for train.\".format(r2_score(y_train, y_train_preds), len(y_train)))\n",
    "    return test_score, train_score, lm_model, X_train, X_train_scaled_df, X_test, X_test_scaled_df, y_train, y_test\n",
    "\n",
    "\n",
    "#Testing function with the treated_listings dataset\n",
    "test_score, train_score, lm_model, X_train, X_train_scaled_df, X_test, X_test_scaled_df, y_train, y_test = fit_linear_mod(treated_listings[selected_columns], 'price')"
   ]
  },
  {
   "cell_type": "code",
   "execution_count": 75,
   "id": "18b5fd2d-abeb-482c-b88f-560cc19586f4",
   "metadata": {},
   "outputs": [],
   "source": [
    "treated_listings = treated_listings.copy()\n",
    "\n",
    "# Create new engineered features to improve the model's predictive power\n",
    "# 'price_per_accommodate': Represents the price per accommodated guest, providing normalized pricing information\n",
    "treated_listings['price_per_accommodate'] = treated_listings['price'] / treated_listings['accommodates']\n",
    "\n",
    "# Add the new features to the list of selected columns for further analysis or modeling\n",
    "selected_columns.append('price_per_accommodate')"
   ]
  },
  {
   "cell_type": "code",
   "execution_count": 76,
   "id": "7871e16d-8f06-4284-9c44-03397a432748",
   "metadata": {},
   "outputs": [
    {
     "name": "stdout",
     "output_type": "stream",
     "text": [
      "                       accommodates     price  price_per_accommodate\n",
      "accommodates               1.000000  0.479862              -0.188166\n",
      "price                      0.479862  1.000000               0.621242\n",
      "price_per_accommodate     -0.188166  0.621242               1.000000\n"
     ]
    }
   ],
   "source": [
    "corr_matrix = treated_listings[['accommodates', 'price','price_per_accommodate']].corr()\n",
    "print(corr_matrix)"
   ]
  },
  {
   "cell_type": "code",
   "execution_count": 77,
   "id": "340a1091-4097-4416-b15d-8d3de09323c1",
   "metadata": {},
   "outputs": [
    {
     "name": "stdout",
     "output_type": "stream",
     "text": [
      "The r-squared score for the model was 0.81 on 2205 values for test.\n",
      "The r-squared score for the model was 0.77 on 5144 values for train.\n"
     ]
    }
   ],
   "source": [
    "#Testing function with the treated_listings dataset\n",
    "test_score, train_score, lm_model, X_train, X_train_scaled_df, X_test, X_test_scaled_df, y_train, y_test = fit_linear_mod(treated_listings[selected_columns], 'price')"
   ]
  },
  {
   "cell_type": "code",
   "execution_count": 78,
   "id": "e8226b95-d8b3-497b-a881-7b215fe7be94",
   "metadata": {},
   "outputs": [
    {
     "data": {
      "image/png": "[encoded data removed]",
      "text/plain": [
       "<Figure size 1000x600 with 1 Axes>"
      ]
     },
     "metadata": {},
     "output_type": "display_data"
    }
   ],
   "source": [
    "# Get the coefficients\n",
    "coefficients = pd.DataFrame({\n",
    "    'Variable': X_train_scaled_df.columns,  # Use the columns of the scaled DataFrame\n",
    "    'Coefficient': lm_model.coef_\n",
    "})\n",
    "\n",
    "# Add a column for the absolute values of the coefficients\n",
    "coefficients['Absolute_Coefficient'] = coefficients['Coefficient'].abs()\n",
    "\n",
    "# Sort the variables by their absolute coefficient values in descending order\n",
    "coefficients = coefficients.sort_values(by='Absolute_Coefficient', ascending=False)\n",
    "\n",
    "# Plot a horizontal bar chart of the top 10 most relevant variables\n",
    "plt.figure(figsize=(10, 6))\n",
    "plt.barh(coefficients['Variable'].head(10), coefficients['Absolute_Coefficient'].head(10), color = 'blue')\n",
    "plt.xlabel('Absolute Coefficient Value')\n",
    "plt.ylabel('Variable')\n",
    "plt.title('Top 10 Most Relevant Variables in Linear Regression')\n",
    "plt.gca().invert_yaxis()  # Invert the y-axis to place the most relevant variables at the top\n",
    "plt.show()"
   ]
  },
  {
   "cell_type": "markdown",
   "id": "1c10b8ca-c512-4637-8b4a-46a31c42b3f7",
   "metadata": {},
   "source": [
    "## What are the most valued amenity combinations, considering average price and high demand?"
   ]
  },
  {
   "cell_type": "code",
   "execution_count": 80,
   "id": "cc2d1d01-2686-4a26-98d6-d5da699d5b3f",
   "metadata": {},
   "outputs": [],
   "source": [
    "def create_combinations(df, column_to_combine, combinations_number, available_days, demand_percentile):\n",
    "    \"\"\"\n",
    "    Creates and analyzes combinations of items from a specified column in a DataFrame.\n",
    "\n",
    "    INPUT:\n",
    "    df: pandas.DataFrame\n",
    "        The input DataFrame containing the data to analyze.\n",
    "    column_to_combine: str\n",
    "        The name of the column containing lists from which combinations will be generated.\n",
    "    combinations_number: int\n",
    "        The number of items to include in each combination (e.g., 2 for pairs, 3 for triplets).\n",
    "    available_days: int\n",
    "        The threshold for maximum average availability to consider a combination as high demand.\n",
    "    demand_percentile: float\n",
    "        The quantile (0-1 range) for price threshold. Only combinations with average prices\n",
    "        above this percentile will be included in the results.\n",
    "\n",
    "    OUTPUT:\n",
    "    pandas.DataFrame\n",
    "        A DataFrame containing the combinations that meet the criteria, with their \n",
    "        corresponding average price and availability.\n",
    "    \"\"\"\n",
    "\n",
    "    # Step 1: Generate combinations for the specified column\n",
    "    # Creates a new column with all possible combinations of the specified length (combinations_number)\n",
    "    df['column_combinations'] = df[column_to_combine].apply(lambda row: list(combinations(row, combinations_number)))\n",
    "\n",
    "    # Step 2: Explode the combinations column\n",
    "    # Transform the list of combinations into individual rows for easier aggregation\n",
    "    combinations_exploded = df.explode('column_combinations')\n",
    "\n",
    "    # Step 3: Calculate metrics for each combination\n",
    "    # Calculate the mean price for each unique combination\n",
    "    mean_price = combinations_exploded.groupby('column_combinations')['price'].mean()\n",
    "    \n",
    "    # Calculate the mean availability for each unique combination\n",
    "    mean_availability = combinations_exploded.groupby('column_combinations')['availability_365'].mean()\n",
    "\n",
    "    # Step 4: Filter combinations based on criteria\n",
    "    # Create a new DataFrame with the aggregated metrics\n",
    "    df_combine = pd.DataFrame({'Average Price': mean_price, 'Average Availability': mean_availability})\n",
    "\n",
    "    # Apply filters:\n",
    "    # - Combinations with price above the specified percentile\n",
    "    # - Combinations with availability below the specified threshold (high demand)\n",
    "    df_combine = df_combine[(df_combine['Average Price'] > np.quantile(mean_price, demand_percentile)) & (df_combine['Average Availability'] < available_days)]\n",
    "\n",
    "    # Step 5: Sort combinations by price in descending order\n",
    "    df_combine = df_combine.sort_values(by = 'Average Price', ascending = False)\n",
    "    \n",
    "    return df_combine"
   ]
  },
  {
   "cell_type": "code",
   "execution_count": 81,
   "id": "85edad69-ec2a-4fe1-b498-0ac4bf05d94d",
   "metadata": {},
   "outputs": [],
   "source": [
    "def top_combinations(df_combinations, variable_name, top_number):\n",
    "    \"\"\"\n",
    "    Plots the top 10 combinations of a variable, displaying both average price (bars) and demand (line).\n",
    "\n",
    "    INPUT:\n",
    "    df_combinations - pandas DataFrame containing:\n",
    "        - 'Average Price': The average price associated with each combination.\n",
    "        - 'Average Availability': The average availability (in days) for each combination.\n",
    "    variable_name - str, the name of the variable being analyzed (e.g., 'Amenity').\n",
    "    top_number - int, the number of top combinations \n",
    "\n",
    "    OUTPUT:\n",
    "    A bar and line chart:\n",
    "        - Bars represent the average price for the top combinations.\n",
    "        - A line represents the average availability for the same combinations.\n",
    "    \"\"\"\n",
    "    # Step 1: Select the top 10 combinations based on their price\n",
    "    top10 = df_combinations.head(top_number)\n",
    "    \n",
    "    # Step 2: Convert the index (combinations) to strings for compatibility with Matplotlib\n",
    "    top10.index = top10.index.map(str)\n",
    "    \n",
    "    # Step 3: Create the primary axis for average price (bars)\n",
    "    fig, ax1 = plt.subplots(figsize=(12, 8))\n",
    "    ax1.bar(\n",
    "        top10.index,                      # X-axis: combinations as strings\n",
    "        top10['Average Price'],           # Y-axis: average price\n",
    "        color='blue',                     # Bar color\n",
    "        alpha=0.7,                        # Transparency for better visualization\n",
    "        label='Average Price'             # Label for the legend\n",
    "    )\n",
    "    ax1.set_xlabel(f'{variable_name} Combinations')  # Label for the X-axis\n",
    "    ax1.set_ylabel('Average Price', color='blue')    # Label for the primary Y-axis\n",
    "    ax1.tick_params(axis='y', labelcolor='blue')     # Adjust tick colors for the primary Y-axis\n",
    "    ax1.set_xticklabels(top10.index, rotation=90)   # Rotate X-axis labels for readability\n",
    "    \n",
    "    # Step 4: Create the secondary axis for average availability (line)\n",
    "    ax2 = ax1.twinx()\n",
    "    ax2.plot(\n",
    "        top10.index,                      # X-axis: combinations as strings\n",
    "        top10['Average Availability'],    # Y-axis: average availability\n",
    "        color='orange',                   # Line color\n",
    "        marker='o',                       # Marker style for data points\n",
    "        label='Average Availability'      # Label for the legend\n",
    "    )\n",
    "    ax2.set_ylabel('Average Availability (Days)', color='orange')  # Label for the secondary Y-axis\n",
    "    ax2.tick_params(axis='y', labelcolor='orange')                 # Adjust tick colors for the secondary Y-axis\n",
    "    \n",
    "    # Step 5: Add a title and layout adjustments\n",
    "    plt.title(f'High Value {variable_name} Combinations (Price and Demand)')  # Chart title\n",
    "    fig.tight_layout()  # Automatically adjust layout to prevent overlapping\n",
    "    plt.show()          # Display the chart"
   ]
  },
  {
   "cell_type": "code",
   "execution_count": 82,
   "id": "7e5c7678-7ec2-4c14-97da-d5eba0cb131b",
   "metadata": {},
   "outputs": [],
   "source": [
    "amenities_combinations = create_combinations(new_listings, 'cleaned_amenities', 3, 100, 0.75).head(10)"
   ]
  },
  {
   "cell_type": "code",
   "execution_count": 83,
   "id": "b56c1692-a597-440b-8594-bcfb4d775f9c",
   "metadata": {},
   "outputs": [
    {
     "name": "stderr",
     "output_type": "stream",
     "text": [
      "C:\\Users\\raissa.monteiro\\AppData\\Local\\Temp\\ipykernel_31072\\3358896229.py:35: UserWarning: set_ticklabels() should only be used with a fixed number of ticks, i.e. after set_ticks() or using a FixedLocator.\n",
      "  ax1.set_xticklabels(top10.index, rotation=90)   # Rotate X-axis labels for readability\n"
     ]
    },
    {
     "data": {
      "image/png": "[encoded data removed]",
      "text/plain": [
       "<Figure size 1200x800 with 2 Axes>"
      ]
     },
     "metadata": {},
     "output_type": "display_data"
    }
   ],
   "source": [
    "top_combinations(amenities_combinations, 'Amenity', 10)"
   ]
  },
  {
   "cell_type": "markdown",
   "id": "18dfa55d-82f0-445b-af06-5adb028246ea",
   "metadata": {},
   "source": [
    "## How do guest preferences for amenities differ between properties with high ratings and low ratings in Seattle and Boston?"
   ]
  },
  {
   "cell_type": "code",
   "execution_count": 85,
   "id": "84313d13-e814-4b4f-bea3-c03b98df5cc3",
   "metadata": {},
   "outputs": [],
   "source": [
    "def comparison_amenities(df, high_value, score_column):\n",
    "    \"\"\"\n",
    "    Compare the frequency of amenities between high-rated and low-rated properties.\n",
    "\n",
    "    Args:\n",
    "    df (DataFrame): The input dataset containing information about properties and their amenities.\n",
    "    high_value (numeric): The threshold value to distinguish high-rated from low-rated properties.\n",
    "    score_column (str): The name of the column containing the score/rating values.\n",
    "\n",
    "    Returns:\n",
    "    DataFrame: A DataFrame with the normalized frequency of amenities for high-rated and low-rated properties,\n",
    "               and the difference between these frequencies.\n",
    "    \"\"\"\n",
    "    # Divide the dataset into high-rated and low-rated properties based on the score threshold\n",
    "    high_rated = df[df[score_column] >= high_value]  # Properties with ratings greater than or equal to the threshold\n",
    "    low_rated = df[df[score_column] < high_value]   # Properties with ratings below the threshold\n",
    "\n",
    "    # Calculate the normalized frequency of amenities for high-rated properties\n",
    "    # 'explode' transforms the list of amenities in each row into individual rows for counting\n",
    "    high_rated_amenities = high_rated.explode('cleaned_amenities')['cleaned_amenities'].value_counts(normalize=True)\n",
    "\n",
    "    # Calculate the normalized frequency of amenities for low-rated properties\n",
    "    low_rated_amenities = low_rated.explode('cleaned_amenities')['cleaned_amenities'].value_counts(normalize=True)\n",
    "\n",
    "    # Create a DataFrame to compare amenities between high-rated and low-rated properties\n",
    "    amenity_comparison = pd.DataFrame({\n",
    "        'High Rated': high_rated_amenities,  # Frequency of amenities in high-rated properties\n",
    "        'Low Rated': low_rated_amenities    # Frequency of amenities in low-rated properties\n",
    "    }).fillna(0)  # Fill missing values with 0 (amenities not present in one of the groups)\n",
    "\n",
    "    # Add a column for the difference in frequencies between high-rated and low-rated properties\n",
    "    amenity_comparison['Difference'] = amenity_comparison['High Rated'] - amenity_comparison['Low Rated']\n",
    "\n",
    "    p_values = []\n",
    "    for amenity in amenity_comparison.index:\n",
    "        high_count = high_rated.explode('cleaned_amenities')['cleaned_amenities'].value_counts().get(amenity, 0)\n",
    "        low_count = low_rated.explode('cleaned_amenities')['cleaned_amenities'].value_counts().get(amenity, 0)\n",
    "        \n",
    "        # Construct contingency table\n",
    "        contingency_table = [[high_count, low_count],\n",
    "                             [len(high_rated) - high_count, len(low_rated) - low_count]]\n",
    "        \n",
    "        # Perform chi-squared test\n",
    "        chi2, p, dof, expected = chi2_contingency(contingency_table)\n",
    "        p_values.append(p)\n",
    "\n",
    "    # Add p-values to DataFrame\n",
    "    amenity_comparison['p-value'] = p_values\n",
    "\n",
    "    # Drop amenity without a name\n",
    "    amenity_comparison = amenity_comparison.drop(index = '')\n",
    "    \n",
    "    return amenity_comparison\n"
   ]
  },
  {
   "cell_type": "code",
   "execution_count": 86,
   "id": "2ff3d083-9fdf-4cc1-8d05-d6f59bb1cf7e",
   "metadata": {},
   "outputs": [],
   "source": [
    "amenity_comparison = comparison_amenities(new_listings, 8, 'review_scores_value')"
   ]
  },
  {
   "cell_type": "code",
   "execution_count": 87,
   "id": "28d50626-499a-43de-a3d9-54b0c5436e09",
   "metadata": {},
   "outputs": [
    {
     "data": {
      "text/html": [
       "<div>\n",
       "<style scoped>\n",
       "    .dataframe tbody tr th:only-of-type {\n",
       "        vertical-align: middle;\n",
       "    }\n",
       "\n",
       "    .dataframe tbody tr th {\n",
       "        vertical-align: top;\n",
       "    }\n",
       "\n",
       "    .dataframe thead th {\n",
       "        text-align: right;\n",
       "    }\n",
       "</style>\n",
       "<table border=\"1\" class=\"dataframe\">\n",
       "  <thead>\n",
       "    <tr style=\"text-align: right;\">\n",
       "      <th></th>\n",
       "      <th>High Rated</th>\n",
       "      <th>Low Rated</th>\n",
       "      <th>Difference</th>\n",
       "      <th>p-value</th>\n",
       "    </tr>\n",
       "    <tr>\n",
       "      <th>cleaned_amenities</th>\n",
       "      <th></th>\n",
       "      <th></th>\n",
       "      <th></th>\n",
       "      <th></th>\n",
       "    </tr>\n",
       "  </thead>\n",
       "  <tbody>\n",
       "    <tr>\n",
       "      <th>air conditioning</th>\n",
       "      <td>0.031157</td>\n",
       "      <td>0.033934</td>\n",
       "      <td>-0.002776</td>\n",
       "      <td>0.649885</td>\n",
       "    </tr>\n",
       "    <tr>\n",
       "      <th>breakfast</th>\n",
       "      <td>0.005463</td>\n",
       "      <td>0.003351</td>\n",
       "      <td>0.002111</td>\n",
       "      <td>0.089026</td>\n",
       "    </tr>\n",
       "    <tr>\n",
       "      <th>buzzer/wireless intercom</th>\n",
       "      <td>0.012342</td>\n",
       "      <td>0.011730</td>\n",
       "      <td>0.000611</td>\n",
       "      <td>0.344098</td>\n",
       "    </tr>\n",
       "    <tr>\n",
       "      <th>cable tv</th>\n",
       "      <td>0.028638</td>\n",
       "      <td>0.029326</td>\n",
       "      <td>-0.000688</td>\n",
       "      <td>0.281467</td>\n",
       "    </tr>\n",
       "    <tr>\n",
       "      <th>cat(s)</th>\n",
       "      <td>0.005086</td>\n",
       "      <td>0.002933</td>\n",
       "      <td>0.002153</td>\n",
       "      <td>0.079919</td>\n",
       "    </tr>\n",
       "    <tr>\n",
       "      <th>dog(s)</th>\n",
       "      <td>0.006640</td>\n",
       "      <td>0.004608</td>\n",
       "      <td>0.002032</td>\n",
       "      <td>0.108608</td>\n",
       "    </tr>\n",
       "    <tr>\n",
       "      <th>doorman</th>\n",
       "      <td>0.003145</td>\n",
       "      <td>0.003351</td>\n",
       "      <td>-0.000206</td>\n",
       "      <td>0.992921</td>\n",
       "    </tr>\n",
       "    <tr>\n",
       "      <th>dryer</th>\n",
       "      <td>0.048925</td>\n",
       "      <td>0.050691</td>\n",
       "      <td>-0.001766</td>\n",
       "      <td>0.057020</td>\n",
       "    </tr>\n",
       "    <tr>\n",
       "      <th>elevator in building</th>\n",
       "      <td>0.014723</td>\n",
       "      <td>0.016339</td>\n",
       "      <td>-0.001615</td>\n",
       "      <td>0.935459</td>\n",
       "    </tr>\n",
       "    <tr>\n",
       "      <th>family/kid friendly</th>\n",
       "      <td>0.034385</td>\n",
       "      <td>0.036866</td>\n",
       "      <td>-0.002481</td>\n",
       "      <td>0.475161</td>\n",
       "    </tr>\n",
       "  </tbody>\n",
       "</table>\n",
       "</div>"
      ],
      "text/plain": [
       "                          High Rated  Low Rated  Difference   p-value\n",
       "cleaned_amenities                                                    \n",
       "air conditioning            0.031157   0.033934   -0.002776  0.649885\n",
       "breakfast                   0.005463   0.003351    0.002111  0.089026\n",
       "buzzer/wireless intercom    0.012342   0.011730    0.000611  0.344098\n",
       "cable tv                    0.028638   0.029326   -0.000688  0.281467\n",
       "cat(s)                      0.005086   0.002933    0.002153  0.079919\n",
       "dog(s)                      0.006640   0.004608    0.002032  0.108608\n",
       "doorman                     0.003145   0.003351   -0.000206  0.992921\n",
       "dryer                       0.048925   0.050691   -0.001766  0.057020\n",
       "elevator in building        0.014723   0.016339   -0.001615  0.935459\n",
       "family/kid friendly         0.034385   0.036866   -0.002481  0.475161"
      ]
     },
     "execution_count": 87,
     "metadata": {},
     "output_type": "execute_result"
    }
   ],
   "source": [
    "amenity_comparison[amenity_comparison['p-value'] > 0.05].head(10)"
   ]
  },
  {
   "cell_type": "code",
   "execution_count": 88,
   "id": "2b1ba077-6315-49ce-96aa-bf2939f9d5e5",
   "metadata": {},
   "outputs": [
    {
     "data": {
      "image/png": "[encoded data removed]",
      "text/plain": [
       "<Figure size 1200x600 with 1 Axes>"
      ]
     },
     "metadata": {},
     "output_type": "display_data"
    }
   ],
   "source": [
    "# Select the top 10 amenities with the largest differences in frequency between high-rated and low-rated properties\n",
    "# Sorting the DataFrame by the 'Difference' column in descending order to find the most significant differences\n",
    "top_differences = amenity_comparison[amenity_comparison['p-value'] > 0.05].sort_values('Difference', ascending=False).head(10)\n",
    "\n",
    "# Plot a bar chart comparing the normalized frequencies of the top 10 amenities\n",
    "# This shows how much more (or less) frequently these amenities appear in high-rated vs. low-rated properties\n",
    "top_differences[['High Rated', 'Low Rated']].plot(kind='bar', figsize=(12, 6), color = ['blue','orange'])\n",
    "\n",
    "# Add a title to the chart for context\n",
    "plt.title('Comparison of Amenity Preferences (High vs. Low Rated Properties)')\n",
    "\n",
    "# Label the y-axis to indicate that the values represent normalized frequencies\n",
    "plt.ylabel('Frequency')\n",
    "\n",
    "# Label the x-axis to indicate that the chart compares different amenities\n",
    "plt.xlabel('Amenities')\n",
    "\n",
    "# Display the chart\n",
    "plt.show()"
   ]
  },
  {
   "cell_type": "code",
   "execution_count": 89,
   "id": "1d54b2f8-bea3-46de-90b3-514867e4bed9",
   "metadata": {},
   "outputs": [],
   "source": [
    "amenity_comparison_Seattle = comparison_amenities(new_listings[new_listings['city'] == 'Seattle'], 8, 'review_scores_value')\n",
    "amenity_comparison_Boston = comparison_amenities(new_listings[new_listings['city'] == 'Boston'], 8, 'review_scores_value')"
   ]
  },
  {
   "cell_type": "code",
   "execution_count": 90,
   "id": "c020e2ac-7b05-415a-b3ab-ef3db724d56c",
   "metadata": {},
   "outputs": [],
   "source": [
    "top_differences_Seattle = amenity_comparison_Seattle[amenity_comparison_Seattle['p-value'] > 0.05].sort_values('Difference', ascending = False).head(10)\n",
    "top_differences_Boston = amenity_comparison_Boston[amenity_comparison_Boston['p-value'] > 0.05].sort_values('Difference', ascending = False).head(10)"
   ]
  },
  {
   "cell_type": "code",
   "execution_count": 91,
   "id": "4f43c3b2-83ce-4123-8753-24536658767b",
   "metadata": {},
   "outputs": [
    {
     "data": {
      "image/png": "[encoded data removed]",
      "text/plain": [
       "<Figure size 1800x600 with 2 Axes>"
      ]
     },
     "metadata": {},
     "output_type": "display_data"
    }
   ],
   "source": [
    "# Create a figure with two subplots placed side by side\n",
    "# figsize controls the overall dimensions of the figure\n",
    "# sharey ensures both plots share the same y-axis scale for easy comparison\n",
    "fig, axes = plt.subplots(1, 2, figsize=(18, 6), sharey=True)\n",
    "\n",
    "# First Graphic: Seattle\n",
    "# Plot the top differences in amenity preferences for Seattle\n",
    "top_differences_Seattle[['High Rated', 'Low Rated']].plot(\n",
    "    kind='bar', ax=axes[0], legend=False, color = ['blue','orange']  # Assign the first subplot to axes[0] and suppress the legend for now\n",
    ")\n",
    "axes[0].set_title('Seattle: Amenity Preferences (High vs. Low Rated Properties)')  # Title for the Seattle chart\n",
    "axes[0].set_ylabel('Frequency')  # Label for the y-axis to indicate normalized frequencies\n",
    "axes[0].set_xlabel('Amenities')  # Label for the x-axis to indicate the type of data being compared\n",
    "axes[0].tick_params(axis='x', rotation=90)  # Rotate x-axis labels for better readability\n",
    "\n",
    "# Second Graphic: Boston\n",
    "# Plot the top differences in amenity preferences for Boston\n",
    "top_differences_Boston[['High Rated', 'Low Rated']].plot(\n",
    "    kind='bar', ax=axes[1], legend=False, color = ['blue','orange']  # Assign the second subplot to axes[1] and suppress the legend for now\n",
    ")\n",
    "axes[1].set_title('Boston: Amenity Preferences (High vs. Low Rated Properties)')  # Title for the Boston chart\n",
    "axes[1].set_xlabel('Amenities')  # Label for the x-axis to indicate the type of data being compared\n",
    "axes[1].tick_params(axis='x', rotation=90)  # Rotate x-axis labels for better readability\n",
    "\n",
    "# Add a legend to the figure\n",
    "# loc specifies the position of the legend ('upper center' positions it above both subplots)\n",
    "# bbox_to_anchor adjusts the position of the legend box relative to the figure\n",
    "# ncol=2 organizes the legend entries in two columns\n",
    "fig.legend(\n",
    "    ['High Rated', 'Low Rated'], loc='upper center', bbox_to_anchor=(0.5, -0.05), ncol=2, fontsize=12\n",
    ")\n",
    "\n",
    "# Adjust the layout to prevent overlapping of subplots and labels\n",
    "plt.tight_layout()\n",
    "\n",
    "# Display the plots\n",
    "plt.show()"
   ]
  },
  {
   "cell_type": "code",
   "execution_count": null,
   "id": "9480ea60-a411-428c-bf13-5361d637a93d",
   "metadata": {},
   "outputs": [],
   "source": []
  }
 ],
 "metadata": {
  "kernelspec": {
   "display_name": "Python 3 (ipykernel)",
   "language": "python",
   "name": "python3"
  },
  "language_info": {
   "codemirror_mode": {
    "name": "ipython",
    "version": 3
   },
   "file_extension": ".py",
   "mimetype": "text/x-python",
   "name": "python",
   "nbconvert_exporter": "python",
   "pygments_lexer": "ipython3",
   "version": "3.12.4"
  }
 },
 "nbformat": 4,
 "nbformat_minor": 5
}
